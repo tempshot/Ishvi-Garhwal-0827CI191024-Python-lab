{
 "cells": [
  {
   "cell_type": "code",
   "execution_count": 1,
   "source": [
    "#declaring a string\r\n",
    "s= 'sanchit'"
   ],
   "outputs": [],
   "metadata": {}
  },
  {
   "cell_type": "code",
   "execution_count": 1,
   "source": [
    "my_string = \"Hello\"\r\n",
    "print(my_string)\r\n",
    "\r\n",
    "my_string = '''Hello'''\r\n",
    "print(my_string)"
   ],
   "outputs": [
    {
     "output_type": "stream",
     "name": "stdout",
     "text": [
      "Hello\n",
      "Hello\n"
     ]
    }
   ],
   "metadata": {}
  },
  {
   "cell_type": "code",
   "execution_count": 3,
   "source": [
    "# triple quotes string can extend multiple lines\r\n",
    "my_string = \"\"\"Hello, Welcome to my repostiory of\r\n",
    "            Python lab files\"\"\"\r\n",
    "print(my_string)"
   ],
   "outputs": [
    {
     "output_type": "stream",
     "name": "stdout",
     "text": [
      "Hello, Welcome to my repostiory of\n",
      "            Python lab files\n"
     ]
    }
   ],
   "metadata": {}
  },
  {
   "cell_type": "code",
   "execution_count": 3,
   "source": [
    "#capitalize\r\n",
    "s.capitalize()"
   ],
   "outputs": [
    {
     "output_type": "execute_result",
     "data": {
      "text/plain": [
       "'Sanchit'"
      ]
     },
     "metadata": {},
     "execution_count": 3
    }
   ],
   "metadata": {}
  },
  {
   "cell_type": "code",
   "execution_count": 6,
   "source": [
    "#uppercase then lowercase conversioon\r\n",
    "print(s.upper())\r\n",
    "print(s.lower())"
   ],
   "outputs": [
    {
     "output_type": "stream",
     "name": "stdout",
     "text": [
      "SANCHIT\n",
      "sanchit\n"
     ]
    }
   ],
   "metadata": {}
  },
  {
   "cell_type": "code",
   "execution_count": 8,
   "source": [
    "#find a character in string\r\n",
    "x=s.find('t')\r\n",
    "print(\"t is at\",x,\"place\")"
   ],
   "outputs": [
    {
     "output_type": "stream",
     "name": "stdout",
     "text": [
      "t is at 6 place\n"
     ]
    }
   ],
   "metadata": {}
  },
  {
   "cell_type": "code",
   "execution_count": 4,
   "source": [
    "my_string = 'programiz'\r\n",
    "my_string[5] = 'a' #error\r\n",
    "\r\n",
    "####    TypeError: 'str' object does not support item assignment"
   ],
   "outputs": [
    {
     "output_type": "error",
     "ename": "TypeError",
     "evalue": "'str' object does not support item assignment",
     "traceback": [
      "\u001b[1;31m---------------------------------------------------------------------------\u001b[0m",
      "\u001b[1;31mTypeError\u001b[0m                                 Traceback (most recent call last)",
      "\u001b[1;32m<ipython-input-4-25b6c0be780a>\u001b[0m in \u001b[0;36m<module>\u001b[1;34m\u001b[0m\n\u001b[0;32m      1\u001b[0m \u001b[0mmy_string\u001b[0m \u001b[1;33m=\u001b[0m \u001b[1;34m'programiz'\u001b[0m\u001b[1;33m\u001b[0m\u001b[1;33m\u001b[0m\u001b[0m\n\u001b[1;32m----> 2\u001b[1;33m \u001b[0mmy_string\u001b[0m\u001b[1;33m[\u001b[0m\u001b[1;36m5\u001b[0m\u001b[1;33m]\u001b[0m \u001b[1;33m=\u001b[0m \u001b[1;34m'a'\u001b[0m \u001b[1;31m#error\u001b[0m\u001b[1;33m\u001b[0m\u001b[1;33m\u001b[0m\u001b[0m\n\u001b[0m\u001b[0;32m      3\u001b[0m \u001b[1;31m#TypeError: 'str' object does not support item assignment\u001b[0m\u001b[1;33m\u001b[0m\u001b[1;33m\u001b[0m\u001b[0m\n",
      "\u001b[1;31mTypeError\u001b[0m: 'str' object does not support item assignment"
     ]
    }
   ],
   "metadata": {}
  },
  {
   "cell_type": "code",
   "execution_count": null,
   "source": [
    "# deleting string\r\n",
    "del my_string"
   ],
   "outputs": [],
   "metadata": {}
  },
  {
   "cell_type": "code",
   "execution_count": 5,
   "source": [
    "# concatinatoin of different strings\r\n",
    "str1= 'Hello '\r\n",
    "str2='Sanchit'\r\n",
    "print(str1+str2)"
   ],
   "outputs": [
    {
     "output_type": "stream",
     "name": "stdout",
     "text": [
      "Hello Sanchit\n"
     ]
    }
   ],
   "metadata": {}
  },
  {
   "cell_type": "code",
   "execution_count": 8,
   "source": [
    "# Iterating through a string\r\n",
    "\r\n",
    "#count number of 'e' in a string\r\n",
    "count = 0\r\n",
    "for letter in 'Welcome to my repo':\r\n",
    "    if(letter == 'e'):\r\n",
    "        count += 1\r\n",
    "print(count,'letters found')"
   ],
   "outputs": [
    {
     "output_type": "stream",
     "name": "stdout",
     "text": [
      "3 letters found\n"
     ]
    }
   ],
   "metadata": {}
  },
  {
   "cell_type": "code",
   "execution_count": 10,
   "source": [
    "str = 'sanchit'\r\n",
    "\r\n",
    "list_enumerate = list(enumerate(str))\r\n",
    "print('list(enumerate(str) = ', list_enumerate)"
   ],
   "outputs": [
    {
     "output_type": "stream",
     "name": "stdout",
     "text": [
      "list(enumerate(str) =  [(0, 's'), (1, 'a'), (2, 'n'), (3, 'c'), (4, 'h'), (5, 'i'), (6, 't')]\n"
     ]
    }
   ],
   "metadata": {}
  },
  {
   "cell_type": "code",
   "execution_count": 11,
   "source": [
    "#character count\r\n",
    "print('len(str) = ', len(str))"
   ],
   "outputs": [
    {
     "output_type": "stream",
     "name": "stdout",
     "text": [
      "len(str) =  7\n"
     ]
    }
   ],
   "metadata": {}
  },
  {
   "cell_type": "markdown",
   "source": [
    "#Python String Formatting"
   ],
   "metadata": {}
  },
  {
   "cell_type": "code",
   "execution_count": 12,
   "source": [
    "# using triple quotes\r\n",
    "print('''He said, \"What's there?\"''')\r\n",
    "\r\n",
    "# escaping single quotes\r\n",
    "print('He said, \"What\\'s there?\"')\r\n",
    "\r\n",
    "# escaping double quotes\r\n",
    "print(\"He said, \\\"What's there?\\\"\")\r\n",
    "\r\n",
    "#Sometimes we may wish to ignore the escape sequences inside a string. To do this we can place r or R in front of the string. \r\n",
    "\r\n",
    "print(\"This is \\x61 \\ngood example\")\r\n",
    "print(r\"This is \\x61 \\ngood example\")  # by adding r in biginning of string we ignore \r\n"
   ],
   "outputs": [
    {
     "output_type": "stream",
     "name": "stdout",
     "text": [
      "He said, \"What's there?\"\n",
      "He said, \"What's there?\"\n",
      "He said, \"What's there?\"\n",
      "This is a \n",
      "good example\n",
      "This is \\x61 \\ngood example\n"
     ]
    }
   ],
   "metadata": {}
  },
  {
   "cell_type": "code",
   "execution_count": 1,
   "source": [
    "#Python string format() method\r\n",
    "\r\n",
    "# default order\r\n",
    "default_order = \"{}, {} and {}\".format('Naruto','Minato','Sasuke')\r\n",
    "print('\\n--- Default Order ---')\r\n",
    "print(default_order)\r\n"
   ],
   "outputs": [
    {
     "output_type": "stream",
     "name": "stdout",
     "text": [
      "\n",
      "--- Default Order ---\n",
      "Naruto, Minato and Sasuke\n"
     ]
    }
   ],
   "metadata": {}
  },
  {
   "cell_type": "code",
   "execution_count": 2,
   "source": [
    "\r\n",
    "# order using positional argument\r\n",
    "positional_order = \"{1}, {0} and {2}\".format('Naruto','Minato','Sasuke')\r\n",
    "print('\\n--- Positional Order ---')\r\n",
    "print(positional_order)\r\n"
   ],
   "outputs": [
    {
     "output_type": "stream",
     "name": "stdout",
     "text": [
      "\n",
      "--- Positional Order ---\n",
      "Minato, Naruto and Sasuke\n"
     ]
    }
   ],
   "metadata": {}
  },
  {
   "cell_type": "code",
   "execution_count": 3,
   "source": [
    "\r\n",
    "# order using keyword argument\r\n",
    "keyword_order = \"{s}, {b} and {j}\".format(j='Naruto',b='Minato',s='Sasuke')\r\n",
    "print('\\n--- Keyword Order ---')\r\n",
    "print(keyword_order)\r\n"
   ],
   "outputs": [
    {
     "output_type": "stream",
     "name": "stdout",
     "text": [
      "\n",
      "--- Keyword Order ---\n",
      "Sasuke, Minato and Naruto\n"
     ]
    }
   ],
   "metadata": {}
  },
  {
   "cell_type": "code",
   "execution_count": 4,
   "source": [
    "# formatting integers\r\n",
    "\r\n",
    "print(\"Binary representation of {0} is {0:b}\".format(12))\r\n"
   ],
   "outputs": [
    {
     "output_type": "stream",
     "name": "stdout",
     "text": [
      "Binary representation of 12 is 1100\n"
     ]
    }
   ],
   "metadata": {}
  },
  {
   "cell_type": "code",
   "execution_count": 5,
   "source": [
    "\r\n",
    "# formatting floats\r\n",
    "\r\n",
    "print(\"Exponent representation: {0:e}\".format(1566.345))\r\n",
    "#  'Exponent representation: 1.566345e+03'\r\n"
   ],
   "outputs": [
    {
     "output_type": "stream",
     "name": "stdout",
     "text": [
      "Exponent representation: 1.566345e+03\n"
     ]
    }
   ],
   "metadata": {}
  },
  {
   "cell_type": "code",
   "execution_count": 7,
   "source": [
    "\r\n",
    "# round off\r\n",
    "print(\"One third is: {0:.7f}\".format(1/3))"
   ],
   "outputs": [
    {
     "output_type": "stream",
     "name": "stdout",
     "text": [
      "One third is: 0.3333333\n"
     ]
    }
   ],
   "metadata": {}
  },
  {
   "cell_type": "code",
   "execution_count": 11,
   "source": [
    "x = 12.3456789\r\n",
    "print('The value of x is %0.2f' %x)\r\n",
    "print('The value of x is %0.4f' %x)"
   ],
   "outputs": [
    {
     "output_type": "stream",
     "name": "stdout",
     "text": [
      "The value of x is 12.35\n",
      "The value of x is 12.3457\n"
     ]
    }
   ],
   "metadata": {}
  }
 ],
 "metadata": {
  "kernelspec": {
   "name": "python3",
   "display_name": "Python 3.9.7 64-bit (windows store)"
  },
  "language_info": {
   "codemirror_mode": {
    "name": "ipython",
    "version": 3
   },
   "file_extension": ".py",
   "mimetype": "text/x-python",
   "name": "python",
   "nbconvert_exporter": "python",
   "pygments_lexer": "ipython3",
   "version": "3.9.7"
  },
  "interpreter": {
   "hash": "8f24a489568feb8884645e30faa8538ccc538a2dfdc8b84f2f214516008b46b3"
  }
 },
 "nbformat": 4,
 "nbformat_minor": 5
}