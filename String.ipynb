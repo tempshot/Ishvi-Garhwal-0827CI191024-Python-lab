{
 "cells": [
  {
   "cell_type": "code",
   "execution_count": 1,
   "id": "06472cc1",
   "metadata": {},
   "outputs": [],
   "source": [
    "#declaring a string\n",
    "s= 'sanchit'"
   ]
  },
  {
   "cell_type": "code",
   "execution_count": 3,
   "id": "cc2ad143",
   "metadata": {},
   "outputs": [
    {
     "data": {
      "text/plain": [
       "'Sanchit'"
      ]
     },
     "execution_count": 3,
     "metadata": {},
     "output_type": "execute_result"
    }
   ],
   "source": [
    "#capitalize\n",
    "s.capitalize()"
   ]
  },
  {
   "cell_type": "code",
   "execution_count": 6,
   "id": "5b93a7c6",
   "metadata": {},
   "outputs": [
    {
     "name": "stdout",
     "output_type": "stream",
     "text": [
      "SANCHIT\n",
      "sanchit\n"
     ]
    }
   ],
   "source": [
    "#uppercase then lowercase conversioon\n",
    "print(s.upper())\n",
    "print(s.lower())"
   ]
  },
  {
   "cell_type": "code",
   "execution_count": 8,
   "id": "e9d70783",
   "metadata": {},
   "outputs": [
    {
     "name": "stdout",
     "output_type": "stream",
     "text": [
      "t is at 6 place\n"
     ]
    }
   ],
   "source": [
    "#find a character in string\n",
    "x=s.find('t')\n",
    "print(\"t is at\",x,\"place\")"
   ]
  },
  {
   "cell_type": "code",
   "execution_count": null,
   "id": "bbc8781e",
   "metadata": {},
   "outputs": [],
   "source": []
  }
 ],
 "metadata": {
  "kernelspec": {
   "display_name": "Python 3",
   "language": "python",
   "name": "python3"
  },
  "language_info": {
   "codemirror_mode": {
    "name": "ipython",
    "version": 3
   },
   "file_extension": ".py",
   "mimetype": "text/x-python",
   "name": "python",
   "nbconvert_exporter": "python",
   "pygments_lexer": "ipython3",
   "version": "3.9.5"
  }
 },
 "nbformat": 4,
 "nbformat_minor": 5
}
