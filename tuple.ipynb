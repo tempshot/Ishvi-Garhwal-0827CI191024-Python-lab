{
 "cells": [
  {
   "cell_type": "code",
   "execution_count": 5,
   "id": "ff93953f",
   "metadata": {},
   "outputs": [
    {
     "name": "stdout",
     "output_type": "stream",
     "text": [
      "(11, 65, 1, 2, 5, 9, 'Sanchit', 256, 1, 55, 1, 0, 10)\n"
     ]
    }
   ],
   "source": [
    "#declaring of tuple\n",
    "\n",
    "myTuple=(11,65,1,2,5,9,'Sanchit',256,1,55,1,0,10)\n",
    "print(myTuple)"
   ]
  },
  {
   "cell_type": "code",
   "execution_count": 6,
   "id": "bdd77f27",
   "metadata": {},
   "outputs": [
    {
     "data": {
      "text/plain": [
       "3"
      ]
     },
     "execution_count": 6,
     "metadata": {},
     "output_type": "execute_result"
    }
   ],
   "source": [
    "#count number of occurrence\n",
    "myTuple.count(1)"
   ]
  },
  {
   "cell_type": "code",
   "execution_count": 7,
   "id": "b66e81a4",
   "metadata": {},
   "outputs": [
    {
     "data": {
      "text/plain": [
       "2"
      ]
     },
     "execution_count": 7,
     "metadata": {},
     "output_type": "execute_result"
    }
   ],
   "source": [
    "#find first occurrence of a particular element\n",
    "myTuple.index(1)"
   ]
  },
  {
   "cell_type": "code",
   "execution_count": null,
   "id": "b767bcea",
   "metadata": {},
   "outputs": [],
   "source": []
  }
 ],
 "metadata": {
  "kernelspec": {
   "display_name": "Python 3",
   "language": "python",
   "name": "python3"
  },
  "language_info": {
   "codemirror_mode": {
    "name": "ipython",
    "version": 3
   },
   "file_extension": ".py",
   "mimetype": "text/x-python",
   "name": "python",
   "nbconvert_exporter": "python",
   "pygments_lexer": "ipython3",
   "version": "3.9.5"
  }
 },
 "nbformat": 4,
 "nbformat_minor": 5
}
