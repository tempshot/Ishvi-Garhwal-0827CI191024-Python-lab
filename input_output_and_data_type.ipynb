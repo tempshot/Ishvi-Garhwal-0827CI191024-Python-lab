{
 "cells": [
  {
   "cell_type": "markdown",
   "metadata": {},
   "source": [
    "Simple input/output and data type"
   ]
  },
  {
   "cell_type": "code",
   "execution_count": 1,
   "metadata": {},
   "outputs": [
    {
     "name": "stdout",
     "output_type": "stream",
     "text": [
      "15.97\n"
     ]
    }
   ],
   "source": [
    "#1 Display float number with 2 decimal places using print()\n",
    "i = 15.96513\n",
    "print('%.2f'%i)\n"
   ]
  },
  {
   "cell_type": "markdown",
   "metadata": {},
   "source": []
  },
  {
   "cell_type": "code",
   "execution_count": 3,
   "metadata": {},
   "outputs": [
    {
     "name": "stdout",
     "output_type": "stream",
     "text": [
      "20\n"
     ]
    }
   ],
   "source": [
    "#2 Takes two integer numbers and  return their product.\n",
    "x,y = map(int, input().split())\n",
    "print(x*y)"
   ]
  },
  {
   "cell_type": "code",
   "execution_count": 7,
   "metadata": {},
   "outputs": [
    {
     "name": "stdout",
     "output_type": "stream",
     "text": [
      "Volume of sphere is: 523.5988\n"
     ]
    }
   ],
   "source": [
    "#3 Write a Python program to get the volume of a sphere with radius 10.\n",
    "pi = 3.1415926535897931\n",
    "r = int(input())\n",
    "v = 4.0/3.0*pi*r**3\n",
    "print('Volume of sphere is: %.4f'%v)"
   ]
  },
  {
   "cell_type": "code",
   "execution_count": 8,
   "metadata": {},
   "outputs": [
    {
     "name": "stdout",
     "output_type": "stream",
     "text": [
      "560\n"
     ]
    }
   ],
   "source": [
    "#4 Accept two numbers from the user and multiply them together.\n",
    "x,y = map(int, input().split())\n",
    "print(x*y)"
   ]
  },
  {
   "cell_type": "code",
   "execution_count": 15,
   "metadata": {},
   "outputs": [
    {
     "name": "stdout",
     "output_type": "stream",
     "text": [
      "123\n"
     ]
    }
   ],
   "source": [
    "#5 Write a Python program that accepts an integer (a) and computes the value of a+aa+aaa.\n",
    "a = input()\n",
    "aa = a+a\n",
    "aaa = a+a+a\n",
    "print(int(a)+int(aa)+int(aaa))"
   ]
  },
  {
   "cell_type": "code",
   "execution_count": 9,
   "metadata": {},
   "outputs": [
    {
     "name": "stdout",
     "output_type": "stream",
     "text": [
      "5\n"
     ]
    }
   ],
   "source": [
    "#6 Write a Python program to calculate the length of a string\n",
    "n = 'ishvi'\n",
    "print(len(n))"
   ]
  },
  {
   "cell_type": "code",
   "execution_count": 13,
   "metadata": {},
   "outputs": [
    {
     "name": "stdout",
     "output_type": "stream",
     "text": [
      "5642\n",
      "5642.0\n"
     ]
    }
   ],
   "source": [
    "#7 Write a Python program to parse a string to Float & Integer\n",
    "x = '5642'\n",
    "print(int(x))\n",
    "print(float(x))"
   ]
  }
 ],
 "metadata": {
  "interpreter": {
   "hash": "06cb67651ce969e244f20f184e33f4ddb1106793adfe07cf7ddc131c95c4012f"
  },
  "kernelspec": {
   "display_name": "Python 3.9.1 64-bit",
   "name": "python3"
  },
  "language_info": {
   "codemirror_mode": {
    "name": "ipython",
    "version": 3
   },
   "file_extension": ".py",
   "mimetype": "text/x-python",
   "name": "python",
   "nbconvert_exporter": "python",
   "pygments_lexer": "ipython3",
   "version": "3.9.1"
  },
  "orig_nbformat": 4
 },
 "nbformat": 4,
 "nbformat_minor": 2
}
