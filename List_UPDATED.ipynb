{
 "cells": [
  {
   "cell_type": "code",
   "execution_count": 1,
   "metadata": {},
   "outputs": [],
   "source": [
    "l=list() #list declaration"
   ]
  },
  {
   "cell_type": "code",
   "execution_count": 2,
   "metadata": {},
   "outputs": [
    {
     "name": "stdout",
     "output_type": "stream",
     "text": [
      "[1, 9, 5, 3, 8, 4]\n"
     ]
    }
   ],
   "source": [
    "#list append\n",
    "l.append(1)\n",
    "l.append(9)\n",
    "l.append(5)\n",
    "l.append(3)\n",
    "l.append(8)\n",
    "l.append(4)\n",
    "print(l)\n",
    "\n"
   ]
  },
  {
   "cell_type": "code",
   "execution_count": 3,
   "metadata": {},
   "outputs": [
    {
     "data": {
      "text/plain": [
       "[1, 3, 4, 5, 8, 9]"
      ]
     },
     "execution_count": 3,
     "metadata": {},
     "output_type": "execute_result"
    }
   ],
   "source": [
    "#sorting of list\n",
    "l.sort()\n",
    "l"
   ]
  },
  {
   "cell_type": "code",
   "execution_count": 4,
   "metadata": {},
   "outputs": [
    {
     "name": "stdout",
     "output_type": "stream",
     "text": [
      "[1, 3, 4, 5, 8, 9]\n",
      "[1, 3, 4, 5, 8]\n"
     ]
    }
   ],
   "source": [
    "#deleting elements of list\n",
    "print(l)\n",
    "l.remove(9)\n",
    "print(l)"
   ]
  },
  {
   "cell_type": "code",
   "execution_count": 5,
   "metadata": {},
   "outputs": [
    {
     "name": "stdout",
     "output_type": "stream",
     "text": [
      "[8, 5, 4, 3, 1]\n"
     ]
    }
   ],
   "source": [
    "#print reverse of list\n",
    "l.reverse()\n",
    "print(l)"
   ]
  },
  {
   "cell_type": "code",
   "execution_count": 6,
   "metadata": {},
   "outputs": [
    {
     "name": "stdout",
     "output_type": "stream",
     "text": [
      "[4, 3]\n"
     ]
    }
   ],
   "source": [
    "#list slicing\n",
    "#print elements from index 2 to 4\n",
    "print( l[2:4] )"
   ]
  },
  {
   "cell_type": "code",
   "execution_count": 7,
   "metadata": {},
   "outputs": [
    {
     "name": "stdout",
     "output_type": "stream",
     "text": [
      "[8, 5, 4, 3, 1, 'san']\n"
     ]
    }
   ],
   "source": [
    "# adding different data type in list\n",
    "l.append('san')\n",
    "print(l)"
   ]
  },
  {
   "cell_type": "code",
   "execution_count": 8,
   "metadata": {},
   "outputs": [
    {
     "name": "stdout",
     "output_type": "stream",
     "text": [
      "[8, 5, 4, 3, 1]\n"
     ]
    }
   ],
   "source": [
    "#another deleting method\n",
    "del l[-1]   #deleting last element\n",
    "print(l)"
   ]
  },
  {
   "cell_type": "code",
   "execution_count": 9,
   "metadata": {},
   "outputs": [
    {
     "name": "stdout",
     "output_type": "stream",
     "text": [
      "[8, 5, 4, 3, 1, [5, 4, 7, 2, 3, 4, 6]]\n"
     ]
    }
   ],
   "source": [
    "# appending a nested list in a list\n",
    "l1=[5,4,7,2,3,4,6]\n",
    "l.append(l1)\n",
    "print(l)"
   ]
  },
  {
   "cell_type": "code",
   "execution_count": 10,
   "metadata": {},
   "outputs": [
    {
     "name": "stdout",
     "output_type": "stream",
     "text": [
      "[]\n"
     ]
    }
   ],
   "source": [
    "#clear full list\n",
    "l.clear()\n",
    "print(l)"
   ]
  },
  {
   "cell_type": "markdown",
   "metadata": {},
   "source": [
    "LIST COMPREHENSION ---->"
   ]
  },
  {
   "cell_type": "code",
   "execution_count": 11,
   "metadata": {},
   "outputs": [
    {
     "name": "stdout",
     "output_type": "stream",
     "text": [
      "[1, 4, 9, 16, 25, 36, 49, 64, 81, 100]\n"
     ]
    }
   ],
   "source": [
    "# make a list containing squares of numbers from 1 to 10\n",
    "squares= [(x+1)**2 for x in range(10)]\n",
    "print(squares)"
   ]
  },
  {
   "cell_type": "code",
   "execution_count": 12,
   "metadata": {},
   "outputs": [
    {
     "name": "stdout",
     "output_type": "stream",
     "text": [
      "['Python Language', 'Python Programming', 'Cpp Language', 'Cpp Programming']\n"
     ]
    }
   ],
   "source": [
    "# concatinating two different list\n",
    "\n",
    "print([x+y for x in ['Python ','Cpp '] for y in ['Language','Programming']])"
   ]
  },
  {
   "cell_type": "code",
   "execution_count": 13,
   "metadata": {},
   "outputs": [
    {
     "name": "stdout",
     "output_type": "stream",
     "text": [
      "Lord Minato\n",
      "Lord Kakashi\n",
      "Lord Naruto\n"
     ]
    }
   ],
   "source": [
    "for name in ['Minato','Kakashi','Naruto']:\n",
    "    print('Lord',name)"
   ]
  },
  {
   "cell_type": "code",
   "execution_count": 14,
   "metadata": {},
   "outputs": [
    {
     "name": "stdout",
     "output_type": "stream",
     "text": [
      "The index of e: 1\n"
     ]
    }
   ],
   "source": [
    "\n",
    "alphabets = ['a', 'e', 'i', 'o', 'g', 'l', 'i', 'u']\n",
    "\n",
    " \n",
    "index = alphabets.index('e')    \n",
    "\n",
    "print('The index of e:', index)\n"
   ]
  },
  {
   "cell_type": "code",
   "execution_count": 15,
   "metadata": {},
   "outputs": [
    {
     "name": "stdout",
     "output_type": "stream",
     "text": [
      "The index of i: 6\n"
     ]
    }
   ],
   "source": [
    "\n",
    "# 'i' after the 4th index is searched\n",
    "index = alphabets.index('i', 4)    \n",
    "\n",
    "print('The index of i:', index)\n"
   ]
  },
  {
   "cell_type": "code",
   "execution_count": 16,
   "metadata": {},
   "outputs": [
    {
     "name": "stdout",
     "output_type": "stream",
     "text": [
      "The index of i: 6\n"
     ]
    }
   ],
   "source": [
    "\n",
    "# 'i' between 3rd and 5th index is searched\n",
    "index = alphabets.index('i', 3, 7)   \n",
    "\n",
    "print('The index of i:', index)"
   ]
  },
  {
   "cell_type": "code",
   "execution_count": 17,
   "metadata": {},
   "outputs": [
    {
     "name": "stdout",
     "output_type": "stream",
     "text": [
      "a = [1, 2, 3, 4]\n",
      "b = [3, 4]\n"
     ]
    }
   ],
   "source": [
    "a= [1, 2]\n",
    "b = [3, 4]\n",
    "\n",
    "a += b     \n",
    "\n",
    "print('a =', a)\n",
    "print('b =', b)\n"
   ]
  },
  {
   "cell_type": "code",
   "execution_count": 18,
   "metadata": {},
   "outputs": [
    {
     "name": "stdout",
     "output_type": "stream",
     "text": [
      "a = [1, 2, 3, 4]\n"
     ]
    }
   ],
   "source": [
    "a = [1, 2]\n",
    "b = [3, 4]\n",
    "\n",
    "a[len(a):] = b\n",
    "\n",
    "print('a =', a)\n"
   ]
  },
  {
   "cell_type": "code",
   "execution_count": 19,
   "metadata": {},
   "outputs": [
    {
     "name": "stdout",
     "output_type": "stream",
     "text": [
      "[1, 2, 3, 4]\n",
      "[1, 2, (3, 4)]\n"
     ]
    }
   ],
   "source": [
    "\n",
    "# difference b/w extend and append\n",
    "\n",
    "a1 = [1, 2]\n",
    "a2 = [1, 2]\n",
    "b = (3, 4)\n",
    "\n",
    " \n",
    "a1.extend(b) # new tuple will be added a different elements in list\n",
    "print(a1)\n",
    "\n",
    "a2.append(b) # new tuple will be directly appended as a tuple in list with index=-2\n",
    "print(a2)\n"
   ]
  },
  {
   "cell_type": "code",
   "execution_count": 20,
   "metadata": {},
   "outputs": [
    {
     "name": "stdout",
     "output_type": "stream",
     "text": [
      "Copied List: ['cat', 0, 6.7]\n"
     ]
    }
   ],
   "source": [
    "# Copying list \n",
    "my_list = ['cat', 0, 6.7]\n",
    "\n",
    " \n",
    "new_list = my_list.copy()\n",
    "\n",
    "\n",
    "print('Copied List:', new_list)\n"
   ]
  },
  {
   "cell_type": "code",
   "execution_count": 21,
   "metadata": {},
   "outputs": [
    {
     "name": "stdout",
     "output_type": "stream",
     "text": [
      "New List: [1, 2, 3, 'a']\n",
      "Old List: [1, 2, 3, 'a']\n"
     ]
    }
   ],
   "source": [
    "\n",
    "'''We can also use the = operator to copy a list. For example,\n",
    "old_list = [1, 2, 3]\n",
    "new_list = old_list\n",
    "Howerver, there is one problem with copying lists in this way.\n",
    "If you modify new_list, old_list is also modified. It is because the new list is referencing or pointing to the same old_list object.'''\n",
    "\n",
    "\n",
    "old_list = [1, 2, 3]\n",
    "\n",
    "# copy list using =\n",
    "new_list = old_list\n",
    "\n",
    "\n",
    "# add an element to list\n",
    "new_list.append('a')\n",
    "\n",
    "print('New List:', new_list)\n",
    "print('Old List:', old_list)\n"
   ]
  },
  {
   "cell_type": "code",
   "execution_count": 22,
   "metadata": {},
   "outputs": [
    {
     "name": "stdout",
     "output_type": "stream",
     "text": [
      "Old List: ['cat', 0, 6.7]\n",
      "New List: ['cat', 0, 6.7, 'dog']\n"
     ]
    }
   ],
   "source": [
    "\n",
    "\n",
    "# shallow copy using the slicing syntax\n",
    "\n",
    "# mixed list\n",
    "list = ['cat', 0, 6.7]\n",
    "\n",
    "# copying a list using slicing\n",
    "new_list = list[:]\n",
    "\n",
    "\n",
    "# Adding an element to the new list\n",
    "new_list.append('dog')\n",
    "\n",
    "# Printing new and old list\n",
    "print('Old List:', list)\n",
    "print('New List:', new_list)\n",
    "\n"
   ]
  },
  {
   "cell_type": "code",
   "execution_count": 23,
   "metadata": {},
   "outputs": [
    {
     "name": "stdout",
     "output_type": "stream",
     "text": [
      "Sorted list: [(4, 1), (2, 2), (1, 3), (3, 4)]\n"
     ]
    }
   ],
   "source": [
    "def takeSecond(elem):\n",
    "    return elem[1]\n",
    "\n",
    "# random list\n",
    "random = [(2, 2), (3, 4), (4, 1), (1, 3)]\n",
    "\n",
    "# sort list with key\n",
    "random.sort(key=takeSecond)\n",
    "\n",
    "print('Sorted list:', random)"
   ]
  },
  {
   "cell_type": "code",
   "execution_count": 24,
   "metadata": {},
   "outputs": [
    {
     "name": "stdout",
     "output_type": "stream",
     "text": [
      "sort by name (Ascending order)\n",
      "[{'Name': 'Alan Turing', 'age': 25, 'salary': 10000}, {'Name': 'John Hopkins', 'age': 18, 'salary': 1000}, {'Name': 'Mikhail Tal', 'age': 40, 'salary': 15000}, {'Name': 'Sharon Lin', 'age': 30, 'salary': 8000}]\n",
      "\n",
      "sort by Age (Ascending order)\n",
      "[{'Name': 'John Hopkins', 'age': 18, 'salary': 1000}, {'Name': 'Alan Turing', 'age': 25, 'salary': 10000}, {'Name': 'Sharon Lin', 'age': 30, 'salary': 8000}, {'Name': 'Mikhail Tal', 'age': 40, 'salary': 15000}]\n",
      "\n",
      "sort by salary (Descending order)\n",
      "[{'Name': 'Mikhail Tal', 'age': 40, 'salary': 15000}, {'Name': 'Alan Turing', 'age': 25, 'salary': 10000}, {'Name': 'Sharon Lin', 'age': 30, 'salary': 8000}, {'Name': 'John Hopkins', 'age': 18, 'salary': 1000}]\n",
      "\n"
     ]
    }
   ],
   "source": [
    "employees = [\n",
    "    {'Name': 'Alan Turing', 'age': 25, 'salary': 10000},\n",
    "    {'Name': 'Sharon Lin', 'age': 30, 'salary': 8000},\n",
    "    {'Name': 'John Hopkins', 'age': 18, 'salary': 1000},\n",
    "    {'Name': 'Mikhail Tal', 'age': 40, 'salary': 15000},\n",
    "]\n",
    "\n",
    "# custom functions to get employee info\n",
    "def get_name(employee):\n",
    "    return employee.get('Name')\n",
    "\n",
    "\n",
    "def get_age(employee):\n",
    "    return employee.get('age')\n",
    "\n",
    "\n",
    "def get_salary(employee):\n",
    "    return employee.get('salary')\n",
    "\n",
    "\n",
    "print('sort by name (Ascending order)')\n",
    "employees.sort(key=get_name)\n",
    "print(employees, end='\\n\\n')\n",
    "\n",
    "print('sort by Age (Ascending order)')\n",
    "employees.sort(key=get_age)\n",
    "print(employees, end='\\n\\n')\n",
    "\n",
    "print('sort by salary (Descending order)')\n",
    "employees.sort(key=get_salary, reverse=True)\n",
    "print(employees, end='\\n\\n')\n",
    "\n"
   ]
  },
  {
   "cell_type": "code",
   "execution_count": null,
   "metadata": {},
   "outputs": [],
   "source": []
  }
 ],
 "metadata": {
  "interpreter": {
   "hash": "5e9785e5d06eb4dc8e88b73ddcdf247b58701d1e23143c246267f77b5eb64ed2"
  },
  "kernelspec": {
   "display_name": "Python 3",
   "language": "python",
   "name": "python3"
  },
  "language_info": {
   "codemirror_mode": {
    "name": "ipython",
    "version": 3
   },
   "file_extension": ".py",
   "mimetype": "text/x-python",
   "name": "python",
   "nbconvert_exporter": "python",
   "pygments_lexer": "ipython3",
   "version": "3.9.5"
  }
 },
 "nbformat": 4,
 "nbformat_minor": 2
}
