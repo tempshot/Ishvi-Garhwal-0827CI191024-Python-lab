{
 "cells": [
  {
   "cell_type": "code",
   "execution_count": 3,
   "source": [
    "print('This is output')"
   ],
   "outputs": [
    {
     "output_type": "stream",
     "name": "stdout",
     "text": [
      "This is output\n"
     ]
    }
   ],
   "metadata": {}
  },
  {
   "cell_type": "code",
   "execution_count": 4,
   "source": [
    "x = 23\r\n",
    "print('x =', x)"
   ],
   "outputs": [
    {
     "output_type": "stream",
     "name": "stdout",
     "text": [
      "x = 23\n"
     ]
    }
   ],
   "metadata": {}
  },
  {
   "cell_type": "code",
   "execution_count": 11,
   "source": [
    "print(1, 2, 3, 4)\r\n",
    "#seprating elements with a particular string/character\r\n",
    "print(1, 2, 3, 4, sep='*')\r\n",
    "# end is used for printing each line in same row \r\n",
    "for i in range(5):\r\n",
    "    print(1, 2, 3, 4, sep='_', end=' ')"
   ],
   "outputs": [
    {
     "output_type": "stream",
     "name": "stdout",
     "text": [
      "1 2 3 4\n",
      "1*2*3*4\n",
      "1_2_3_4 1_2_3_4 1_2_3_4 1_2_3_4 1_2_3_4 "
     ]
    }
   ],
   "metadata": {}
  },
  {
   "cell_type": "code",
   "execution_count": 12,
   "source": [
    "a = 5; b = 10\r\n",
    "print('The value of a is {} and b is {}'.format(a,b))\r\n",
    "\r\n",
    "print('My name is {0} and surname is {1}'.format('Ishvi','Garhwal'))\r\n",
    "print('My name is {1} and surname is {0}'.format('Garhwal','Ishvi'))\r\n",
    "\r\n",
    "print('Hello {name}, {greeting}'.format(greeting = 'Goodmorning', name = 'Ishvi'))"
   ],
   "outputs": [
    {
     "output_type": "stream",
     "name": "stdout",
     "text": [
      "The value of a is 5 and b is 10\n",
      "My name is Ishvi and surname is Garhwal\n",
      "My name is Ishvi and surname is Garhwal\n",
      "Hello Ishvi, Goodmorning\n"
     ]
    }
   ],
   "metadata": {}
  },
  {
   "cell_type": "code",
   "execution_count": 15,
   "source": [
    "x = 10.56938365\r\n",
    "print('The value of x is %3.2f' %x) # rounding off after 1 digit\r\n",
    "print('The value of x is %3.4f' %x) # rounding off after 3 digit"
   ],
   "outputs": [
    {
     "output_type": "stream",
     "name": "stdout",
     "text": [
      "The value of x is 10.57\n",
      "The value of x is 10.5694\n"
     ]
    }
   ],
   "metadata": {}
  },
  {
   "cell_type": "code",
   "execution_count": 16,
   "source": [
    "x = input('Enter a number: ') # taking input in integer\r\n",
    "print(x)"
   ],
   "outputs": [
    {
     "output_type": "stream",
     "name": "stdout",
     "text": [
      "10\n"
     ]
    }
   ],
   "metadata": {}
  },
  {
   "cell_type": "code",
   "execution_count": 17,
   "source": [
    "print(int('10')) # type casting in integer\r\n",
    "\r\n",
    "print(float('10')) # type casting in float"
   ],
   "outputs": [
    {
     "output_type": "stream",
     "name": "stdout",
     "text": [
      "10\n",
      "10.0\n"
     ]
    }
   ],
   "metadata": {}
  },
  {
   "cell_type": "code",
   "execution_count": 20,
   "source": [
    "# default arguments\r\n",
    "print(\"Value of {} is {}.\".format(\"a\", 10.23))\r\n",
    "\r\n",
    "# positional arguments\r\n",
    "print(\"Value of {0} is {1}.\".format(\"a\", 10.23))\r\n",
    "\r\n",
    "# keyword arguments\r\n",
    "print(\"Value of {variable} is {value}.\".format(variable=\"a\", value=10.23))\r\n",
    "\r\n",
    "# mixed arguments\r\n",
    "print(\"Value of {0} is {value}.\".format(\"a\", value=10.23))"
   ],
   "outputs": [
    {
     "output_type": "stream",
     "name": "stdout",
     "text": [
      "Value of a is 10.23.\n",
      "Value of a is 10.23.\n",
      "Value of a is 10.23.\n",
      "Value of a is 10.23.\n"
     ]
    }
   ],
   "metadata": {}
  },
  {
   "cell_type": "code",
   "execution_count": 21,
   "source": [
    "# integer arguments\r\n",
    "print(\"The number is:{:d}\".format(123))\r\n",
    "\r\n",
    "# float arguments\r\n",
    "print(\"The float number is:{:f}\".format(123.4567898))\r\n",
    "\r\n",
    "# octal, binary and hexadecimal format\r\n",
    "print(\"bin: {0:b}, oct: {0:o}, hex: {0:x}\".format(12))\r\n",
    "\r\n",
    "# integer numbers with minimum width\r\n",
    "print(\"{:5d}\".format(12))\r\n",
    "\r\n",
    "# width doesn't work for numbers longer than padding\r\n",
    "print(\"{:2d}\".format(1234))\r\n",
    "\r\n",
    "# padding for float numbers\r\n",
    "print(\"{:8.3f}\".format(12.2346))\r\n",
    "\r\n",
    "# integer numbers with minimum width filled with zeros\r\n",
    "print(\"{:05d}\".format(12))\r\n",
    "\r\n",
    "# padding for float numbers filled with zeros\r\n",
    "print(\"{:08.3f}\".format(12.2346))\r\n",
    "\r\n",
    "# show the + sign\r\n",
    "print(\"{:+f} {:+f}\".format(12.23, -12.23))\r\n",
    "\r\n",
    "# show the - sign only\r\n",
    "print(\"{:-f} {:-f}\".format(12.23, -12.23))\r\n",
    "\r\n",
    "# show space for + sign\r\n",
    "print(\"{: f} {: f}\".format(12.23, -12.23))"
   ],
   "outputs": [
    {
     "output_type": "stream",
     "name": "stdout",
     "text": [
      "The number is:123\n",
      "The float number is:123.456790\n",
      "bin: 1100, oct: 14, hex: c\n",
      "   12\n",
      "1234\n",
      "  12.235\n",
      "00012\n",
      "0012.235\n",
      "+12.230000 -12.230000\n",
      "12.230000 -12.230000\n",
      " 12.230000 -12.230000\n"
     ]
    }
   ],
   "metadata": {}
  },
  {
   "cell_type": "code",
   "execution_count": 22,
   "source": [
    "# integer numbers with right alignment\r\n",
    "print(\"{:5d}\".format(12))\r\n",
    "\r\n",
    "# float numbers with center alignment\r\n",
    "print(\"{:^10.3f}\".format(12.2346))\r\n",
    "\r\n",
    "# integer left alignment filled with zeros\r\n",
    "print(\"{:<05d}\".format(12))\r\n",
    "\r\n",
    "# float numbers with center alignment\r\n",
    "print(\"{:=8.3f}\".format(-12.2346))"
   ],
   "outputs": [
    {
     "output_type": "stream",
     "name": "stdout",
     "text": [
      "   12\n",
      "  12.235  \n",
      "12000\n",
      "- 12.235\n"
     ]
    }
   ],
   "metadata": {}
  },
  {
   "cell_type": "code",
   "execution_count": 23,
   "source": [
    "# string padding with left alignment\r\n",
    "print(\"{:5}\".format(\"dog\"))\r\n",
    "\r\n",
    "# string padding with right alignment\r\n",
    "print(\"{:>5}\".format(\"dog\"))\r\n",
    "\r\n",
    "# string padding with center alignment\r\n",
    "print(\"{:^5}\".format(\"dog\"))\r\n",
    "\r\n",
    "# string padding with center alignment\r\n",
    "# and '*' padding character\r\n",
    "print(\"{:*^5}\".format(\"dog\"))"
   ],
   "outputs": [
    {
     "output_type": "stream",
     "name": "stdout",
     "text": [
      "dog  \n",
      "  dog\n",
      " dog \n",
      "*dog*\n"
     ]
    }
   ],
   "metadata": {}
  },
  {
   "cell_type": "code",
   "execution_count": 24,
   "source": [
    "print(\"{:.3}\".format(\"caterpillar\"))\r\n",
    "\r\n",
    "# truncating strings to 3 letters\r\n",
    "# and padding\r\n",
    "print(\"{:*<5.3}\".format(\"caterpillar\"))\r\n",
    "\r\n",
    "# truncating strings to 3 letters,\r\n",
    "# padding and center alignment\r\n",
    "print(\"{:*^5.3}\".format(\"caterpillar\"))"
   ],
   "outputs": [
    {
     "output_type": "stream",
     "name": "stdout",
     "text": [
      "cat\n",
      "cat**\n",
      "*cat*\n"
     ]
    }
   ],
   "metadata": {}
  },
  {
   "cell_type": "code",
   "execution_count": 26,
   "source": [
    "class Person:\r\n",
    "    age = 19\r\n",
    "    name = \"Ishvi\"\r\n",
    "\r\n",
    "print(\"{p.name}'s age is: {p.age}\".format(p=Person()))\r\n",
    "\r\n",
    "#  Formatting dictionary members using format()\r\n",
    "\r\n",
    "# define Person dictionary\r\n",
    "person = {'age': 19, 'name': 'Ishvi'}\r\n",
    "\r\n",
    "# format age\r\n",
    "print(\"{p[name]}'s age is: {p[age]}\".format(p=person))\r\n",
    "\r\n",
    "# define Person dictionary\r\n",
    "person = {'age': 19, 'name': 'Ishvi'}\r\n",
    "\r\n",
    "# format age\r\n",
    "print(\"{name}'s age is: {age}\".format(**person))"
   ],
   "outputs": [
    {
     "output_type": "stream",
     "name": "stdout",
     "text": [
      "Ishvi's age is: 19\n",
      "Ishvi's age is: 19\n",
      "Ishvi's age is: 19\n"
     ]
    }
   ],
   "metadata": {}
  },
  {
   "cell_type": "code",
   "execution_count": 27,
   "source": [
    "#   str.split(separator, maxsplit)\r\n",
    "\r\n",
    "text = 'Python is a fun programming language'\r\n",
    "\r\n",
    "# split the text from space\r\n",
    "print(text.split(' '))\r\n",
    "\r\n",
    "text= 'Love thy neighbor'\r\n",
    "\r\n",
    "# splits at space\r\n",
    "print(text.split())\r\n",
    "\r\n",
    "grocery = 'Milk, Chicken, Bread'\r\n",
    "\r\n",
    "# splits at ','\r\n",
    "print(grocery.split(', '))\r\n",
    "\r\n",
    "# Splits at ':'\r\n",
    "print(grocery.split(':'))\r\n",
    "\r\n",
    "grocery = 'Milk, Chicken, Bread, Butter'\r\n",
    "\r\n",
    "# maxsplit: 2\r\n",
    "print(grocery.split(', ', 2))\r\n",
    "\r\n",
    "# maxsplit: 1\r\n",
    "print(grocery.split(', ', 1))\r\n",
    "\r\n",
    "# maxsplit: 5\r\n",
    "print(grocery.split(', ', 5))\r\n",
    "\r\n",
    "# maxsplit: 0\r\n",
    "print(grocery.split(', ', 0))"
   ],
   "outputs": [
    {
     "output_type": "stream",
     "name": "stdout",
     "text": [
      "['Python', 'is', 'a', 'fun', 'programming', 'language']\n",
      "['Love', 'thy', 'neighbor']\n",
      "['Milk', 'Chicken', 'Bread']\n",
      "['Milk, Chicken, Bread']\n",
      "['Milk', 'Chicken', 'Bread, Butter']\n",
      "['Milk', 'Chicken, Bread, Butter']\n",
      "['Milk', 'Chicken', 'Bread', 'Butter']\n",
      "['Milk, Chicken, Bread, Butter']\n"
     ]
    }
   ],
   "metadata": {}
  }
 ],
 "metadata": {
  "orig_nbformat": 4,
  "language_info": {
   "name": "python",
   "version": "3.9.1",
   "mimetype": "text/x-python",
   "codemirror_mode": {
    "name": "ipython",
    "version": 3
   },
   "pygments_lexer": "ipython3",
   "nbconvert_exporter": "python",
   "file_extension": ".py"
  },
  "kernelspec": {
   "name": "python3",
   "display_name": "Python 3.9.1 64-bit"
  },
  "interpreter": {
   "hash": "06cb67651ce969e244f20f184e33f4ddb1106793adfe07cf7ddc131c95c4012f"
  }
 },
 "nbformat": 4,
 "nbformat_minor": 2
}