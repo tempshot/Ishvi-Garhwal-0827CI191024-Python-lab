{
 "cells": [
  {
   "cell_type": "code",
   "execution_count": 1,
   "source": [
    "\r\n",
    "# defining document string  and accessing it using __doc__attribute \r\n",
    "\r\n",
    "def greet(name):\r\n",
    "    \"\"\"\r\n",
    "    This function greets to\r\n",
    "    the person passed in as\r\n",
    "    a parameter\r\n",
    "    \"\"\"\r\n",
    "    print(\"Hello, \" + name + \". Good morning!\")\r\n",
    "\r\n",
    "\r\n",
    "print(greet.__doc__)    # printing doc of a function\r\n",
    "\r\n",
    "greet(\"Ishvi Garhwal\") #function calling with parameter\r\n"
   ],
   "outputs": [
    {
     "output_type": "stream",
     "name": "stdout",
     "text": [
      "\n",
      "    This function greets to\n",
      "    the person passed in as\n",
      "    a parameter\n",
      "    \n",
      "Hello, Ishvi Garhwal. Good morning!\n"
     ]
    }
   ],
   "metadata": {}
  },
  {
   "cell_type": "code",
   "execution_count": 2,
   "source": [
    "#  Note: In python, the function definition should always be present before the function call.\r\n",
    "#  if  return statement itself is not present inside a function, then the function will return the None object.\r\n",
    "\r\n",
    "\r\n",
    "print(greet(\"Maam\"))\r\n",
    "# this will print greeting and will return null i.e. None\r\n"
   ],
   "outputs": [
    {
     "output_type": "stream",
     "name": "stdout",
     "text": [
      "Hello, Maam. Good morning!\n",
      "None\n"
     ]
    }
   ],
   "metadata": {}
  },
  {
   "cell_type": "code",
   "execution_count": 3,
   "source": [
    "\r\n",
    "def absolute_value(num):\r\n",
    "    \"\"\"This function returns the absolute\r\n",
    "    value of the entered number\"\"\"\r\n",
    "\r\n",
    "    if num >= 0:\r\n",
    "        return num\r\n",
    "    else:\r\n",
    "        return -num\r\n",
    "\r\n",
    "\r\n",
    "print(absolute_value(2))\r\n",
    "\r\n",
    "print(absolute_value(-4))\r\n"
   ],
   "outputs": [
    {
     "output_type": "stream",
     "name": "stdout",
     "text": [
      "2\n",
      "4\n"
     ]
    }
   ],
   "metadata": {}
  },
  {
   "cell_type": "code",
   "execution_count": 4,
   "source": [
    "def greet(name,msg):\r\n",
    "\tprint(msg,name)"
   ],
   "outputs": [],
   "metadata": {}
  },
  {
   "cell_type": "code",
   "execution_count": 5,
   "source": [
    "def my_func():\r\n",
    "\tx = 10\r\n",
    "\tprint(\"Value inside function:\",x)\r\n",
    "\r\n",
    "x = 20\r\n",
    "my_func()\r\n",
    "print(\"Value outside function:\",x)  # x inside the function is different (local to the function) from the one outside.\r\n",
    "\r\n",
    "greet(name = \"Ishvi\",msg = \"Good morning\")\r\n",
    " \r\n",
    "\r\n",
    "greet(\"Ishvi\", msg = \"How are you?\")    \r\n"
   ],
   "outputs": [
    {
     "output_type": "stream",
     "name": "stdout",
     "text": [
      "Value inside function: 10\n",
      "Value outside function: 20\n",
      "Good morning Ishvi\n",
      "How are you? Ishvi\n"
     ]
    }
   ],
   "metadata": {}
  },
  {
   "cell_type": "code",
   "execution_count": 6,
   "source": [
    "\r\n",
    "def greeting(*names):\r\n",
    "    \"\"\"This function greets all\r\n",
    "    the person in the names tuple.\"\"\"\r\n",
    "\r\n",
    "    # names is a tuple with arguments\r\n",
    "    for name in names:\r\n",
    "        print(\"Hello\", name)\r\n",
    "\r\n",
    "\r\n",
    "greeting(\"Monica\", \"Luke\", \"Steve\", \"John\")\r\n"
   ],
   "outputs": [
    {
     "output_type": "stream",
     "name": "stdout",
     "text": [
      "Hello Monica\n",
      "Hello Luke\n",
      "Hello Steve\n",
      "Hello John\n"
     ]
    }
   ],
   "metadata": {}
  },
  {
   "cell_type": "code",
   "execution_count": 7,
   "source": [
    "\r\n",
    "def multiply(num):\r\n",
    "    print(type(num))\r\n",
    "    m=1\r\n",
    "    for i in num:\r\n",
    "        m=m*i\r\n",
    "    return m\r\n",
    "print(multiply([1,2,3,4,5,6,7,8,9]))\r\n"
   ],
   "outputs": [
    {
     "output_type": "stream",
     "name": "stdout",
     "text": [
      "<class 'list'>\n",
      "362880\n"
     ]
    }
   ],
   "metadata": {}
  },
  {
   "cell_type": "markdown",
   "source": [
    "\r\n",
    "#  *recursion*\r\n"
   ],
   "metadata": {}
  },
  {
   "cell_type": "code",
   "execution_count": 8,
   "source": [
    "def factorial(x):\r\n",
    "    if x == 1:\r\n",
    "        return 1\r\n",
    "    else:\r\n",
    "        return (x * factorial(x-1))\r\n",
    "\r\n",
    "\r\n",
    "num = 3\r\n",
    "print(\"The factorial of\", num, \"is\", factorial(num))\r\n"
   ],
   "outputs": [
    {
     "output_type": "stream",
     "name": "stdout",
     "text": [
      "The factorial of 3 is 6\n"
     ]
    }
   ],
   "metadata": {}
  },
  {
   "cell_type": "code",
   "execution_count": 9,
   "source": [
    "\r\n",
    "def sum(x):\r\n",
    "    if x==1:\r\n",
    "        return 1;\r\n",
    "    else:\r\n",
    "        return (x+sum(x-1))\r\n",
    "num=5\r\n",
    "print(\"sum is :\",sum(num)) \r\n",
    "\r\n",
    "\r\n",
    "def squaresum(x):\r\n",
    "    if x==1:\r\n",
    "        return 1;\r\n",
    "    else:\r\n",
    "         \r\n",
    "        return (x*x+squaresum(x-1))\r\n",
    "num=5\r\n",
    "print(\"sum is :\",squaresum(num))\r\n"
   ],
   "outputs": [
    {
     "output_type": "stream",
     "name": "stdout",
     "text": [
      "sum is : 15\n",
      "sum is : 55\n"
     ]
    }
   ],
   "metadata": {}
  },
  {
   "cell_type": "code",
   "execution_count": 10,
   "source": [
    "\r\n",
    "# if we dont use gloabal keyword inside inside the function then we can only read the global variable and cannot write it\r\n",
    "\r\n",
    "c = 1 # global variable\r\n",
    "\r\n",
    "def add():\r\n",
    "    print(c)  # valid\r\n",
    "\r\n",
    "add()   \r\n",
    "\r\n",
    "# invalid \r\n",
    "c = 1 # global variable\r\n",
    "    \r\n",
    "def add():\r\n",
    "    #c = c + 2 # increment c by 2\r\n",
    "    print(c)\r\n",
    "\r\n",
    "add()\r\n",
    "\r\n",
    "\r\n",
    "# solution of this problem\r\n",
    "\r\n",
    "c =  4 # global variable\r\n",
    "\r\n",
    "def add():\r\n",
    "    global c\r\n",
    "    c = c + 2 # increment by 2\r\n",
    "    print(\"Inside add():\", c)\r\n",
    "\r\n",
    "add()\r\n",
    "print(\"In main:\", c)\r\n",
    "\r\n",
    "\r\n",
    "\r\n",
    "# global in nested function\r\n",
    "\r\n",
    "\r\n",
    "def foo():\r\n",
    "    x = 20\r\n",
    "\r\n",
    "    def bar():\r\n",
    "        global x\r\n",
    "        x = 25       # we can even declare a global variable inside nested function\r\n",
    "    \r\n",
    "    print(\"Before calling bar: \", x)\r\n",
    "    print(\"Calling bar now\")\r\n",
    "    bar()\r\n",
    "    print(\"After calling bar: \", x)\r\n",
    "\r\n",
    "foo()\r\n",
    "print(\"x in main: \", x)\r\n",
    "\r\n"
   ],
   "outputs": [
    {
     "output_type": "stream",
     "name": "stdout",
     "text": [
      "1\n",
      "1\n",
      "Inside add(): 6\n",
      "In main: 6\n",
      "Before calling bar:  20\n",
      "Calling bar now\n",
      "After calling bar:  20\n",
      "x in main:  25\n"
     ]
    }
   ],
   "metadata": {}
  },
  {
   "cell_type": "code",
   "execution_count": 11,
   "source": [
    "\r\n",
    "# local variable is the varible declared  inside the function we cannot access local variables outside function scope\r\n",
    "\r\n",
    "def foo():\r\n",
    "    y = \"local\"\r\n",
    "    print(y)\r\n",
    "\r\n",
    "foo()\r\n",
    "\r\n",
    "x = \"global \"\r\n",
    "\r\n",
    "def foo1():\r\n",
    "    global x\r\n",
    "    y = \"local\"\r\n",
    "    x = x * 2\r\n",
    "    print(x)\r\n",
    "    print(y)\r\n",
    "\r\n",
    "foo1()\r\n",
    "\r\n"
   ],
   "outputs": [
    {
     "output_type": "stream",
     "name": "stdout",
     "text": [
      "local\n",
      "global global \n",
      "local\n"
     ]
    }
   ],
   "metadata": {}
  },
  {
   "cell_type": "code",
   "execution_count": 12,
   "source": [
    "\r\n",
    "# non local keyword is used inside the nested function to access the local variable\r\n",
    "\r\n",
    "def outer():\r\n",
    "    x = \"local\"\r\n",
    "\r\n",
    "    def inner():\r\n",
    "        nonlocal x\r\n",
    "        x = \"nonlocal\"\r\n",
    "        print(\"inner:\", x)\r\n",
    "\r\n",
    "    inner()\r\n",
    "    print(\"outer:\", x)\r\n",
    "\r\n",
    "\r\n",
    "outer()\r\n"
   ],
   "outputs": [
    {
     "output_type": "stream",
     "name": "stdout",
     "text": [
      "inner: nonlocal\n",
      "outer: nonlocal\n"
     ]
    }
   ],
   "metadata": {}
  }
 ],
 "metadata": {
  "orig_nbformat": 4,
  "language_info": {
   "name": "python",
   "version": "3.9.1",
   "mimetype": "text/x-python",
   "codemirror_mode": {
    "name": "ipython",
    "version": 3
   },
   "pygments_lexer": "ipython3",
   "nbconvert_exporter": "python",
   "file_extension": ".py"
  },
  "kernelspec": {
   "name": "python3",
   "display_name": "Python 3.9.1 64-bit"
  },
  "interpreter": {
   "hash": "06cb67651ce969e244f20f184e33f4ddb1106793adfe07cf7ddc131c95c4012f"
  }
 },
 "nbformat": 4,
 "nbformat_minor": 2
}