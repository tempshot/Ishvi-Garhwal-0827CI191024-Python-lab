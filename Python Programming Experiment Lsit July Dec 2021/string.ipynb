{
 "cells": [
  {
   "cell_type": "code",
   "execution_count": 1,
   "metadata": {},
   "outputs": [
    {
     "name": "stdout",
     "output_type": "stream",
     "text": [
      "String is ishvi\n",
      "Length of string is 5\n"
     ]
    }
   ],
   "source": [
    "#34 Write a Python program to calculate the length of a given string.\n",
    "\n",
    "n = input('Enter: ')    #n = ishvi\n",
    "print('String is',n)\n",
    "print('Length of string is',len(n))"
   ]
  },
  {
   "cell_type": "code",
   "execution_count": 9,
   "metadata": {},
   "outputs": [
    {
     "name": "stdout",
     "output_type": "stream",
     "text": [
      "Swapped:  gshvi iarhwal\n"
     ]
    }
   ],
   "source": [
    "#35 \"Write a Python program to get a single string from two given strings, separated by a space and swap the first characters of each string.\n",
    "#  Sample String : 'abc', 'xyz' \n",
    "#  Expected Result : 'xbc ayz'\"\n",
    "\n",
    "n,m = input('Enter two strings: ').split()      #n = ishvi, m = garhwal \n",
    "print('Swapped: ',m[0]+n[1::], n[0]+m[1::])"
   ]
  },
  {
   "cell_type": "code",
   "execution_count": 18,
   "metadata": {},
   "outputs": [
    {
     "name": "stdout",
     "output_type": "stream",
     "text": [
      "acropolisCS\n"
     ]
    }
   ],
   "source": [
    "#36 \"Write a Python program to add 'polis' at the end of a given string (length should be at least 3).\n",
    "#   If the given string already ends with 'polis' then add 'polisCS' instead.\n",
    "#   If the string length of the given string is less than 3, leave it unchanged. \n",
    "#  Sample String : 'abc'\n",
    "#  Expected Result : 'abcpolis' \n",
    "#  Sample String : 'Acropolis'\n",
    "#  Expected Result : 'AcropolisCS'\"\n",
    "\n",
    "n = input('Enter a string: ')     #n = acropolis\n",
    "if len(n) >= 3:\n",
    "    if n[-5:] == 'polis':\n",
    "        print(n + 'CS')\n",
    "    else:\n",
    "        print(n + 'polis')\n",
    "else:\n",
    "    print(n)"
   ]
  },
  {
   "cell_type": "code",
   "execution_count": 34,
   "metadata": {},
   "outputs": [
    {
     "name": "stdout",
     "output_type": "stream",
     "text": [
      "Frequency of each character in google.com string is {'g': 2, 'o': 3, 'l': 1, 'e': 1, '.': 1, 'c': 1, 'm': 1}\n"
     ]
    }
   ],
   "source": [
    "#37 \"Write a Python program to count the number of characters (character frequency) in a string. \n",
    "#  Sample String : google.com'\n",
    "#  Expected Result : {'o': 3, 'g': 2, '.': 1, 'e': 1, 'l': 1, 'm': 1, 'c': 1}\"\n",
    "\n",
    "n = input('Enter string: ')     #n = google.com\n",
    "f = {}\n",
    "for i in n:\n",
    "    if i in f:\n",
    "        f[i] = f[i] + 1\n",
    "    else:\n",
    "        f[i] = 1\n",
    "print('Frequency of each character in',n,'string is',f)"
   ]
  },
  {
   "cell_type": "code",
   "execution_count": 19,
   "metadata": {},
   "outputs": [
    {
     "name": "stdout",
     "output_type": "stream",
     "text": [
      "Echxchanged string is iihvs\n"
     ]
    }
   ],
   "source": [
    "#38 Write a Python program to change a given string to a new string where the second and last chars have been exchanged.\n",
    "\n",
    "n = input('Enter string: ')     #n = ishvi\n",
    "print('Echxchanged string is',n[0]+n[-1:]+n[2:-1]+n[1])"
   ]
  },
  {
   "cell_type": "code",
   "execution_count": 10,
   "metadata": {},
   "outputs": [
    {
     "name": "stdout",
     "output_type": "stream",
     "text": [
      "isv\n"
     ]
    }
   ],
   "source": [
    "#39 Write a Python program to remove the characters which have even index values of a given string.\n",
    "\n",
    "# # n = input()\n",
    "n = 'ishvi'\n",
    "print(n[0]+n[1:len(n):2])\n"
   ]
  },
  {
   "cell_type": "code",
   "execution_count": 20,
   "metadata": {},
   "outputs": [
    {
     "name": "stdout",
     "output_type": "stream",
     "text": [
      "In upper cases ISHVI\n",
      "In lower cases ishvi\n"
     ]
    }
   ],
   "source": [
    "#40 Write a Python program that takes input from the user and displays that input back in upper and lower cases.\n",
    "\n",
    "n = input('Enter string')       #n = ishvi\n",
    "print('In upper cases',n.upper())\n",
    "print('In lower cases',n.lower())\n"
   ]
  },
  {
   "cell_type": "code",
   "execution_count": 21,
   "metadata": {},
   "outputs": [
    {
     "name": "stdout",
     "output_type": "stream",
     "text": [
      "No. of occurrence of sub string hello is 4\n"
     ]
    }
   ],
   "source": [
    "#41 Write a Python program to count occurrences of a substring in a string.\n",
    "\n",
    "n = input('Enter string: ')     #n = hello how are you doing hello how are you hello my  name is ishvi hello nice to meet you\n",
    "m = input('Enter sub string: ')     #m = hello\n",
    "print('No. of occurrence of sub string',m,'is',n.count(m))"
   ]
  },
  {
   "cell_type": "code",
   "execution_count": 25,
   "metadata": {},
   "outputs": [
    {
     "name": "stdout",
     "output_type": "stream",
     "text": [
      "Lower cased ishVI\n"
     ]
    }
   ],
   "source": [
    "#42 Write a Python program to lowercase first n characters in a string.\n",
    "\n",
    "n = input('Enter a string: ')       #n = ISHVI\n",
    "m = int(input('Enter how many letters to lower case: '))    #m = 3\n",
    "print('Lower cased',n[:m].lower()+n[m:])"
   ]
  },
  {
   "cell_type": "code",
   "execution_count": 27,
   "metadata": {},
   "outputs": [
    {
     "name": "stdout",
     "output_type": "stream",
     "text": [
      "MynameisIshviGarhwal\n"
     ]
    }
   ],
   "source": [
    "#43 Write a Python program to remove spaces from a given string.\n",
    "\n",
    "n = input('Enter string: ')     #n = My name is Ishvi Garhwal\n",
    "print(n.replace(' ', ''))"
   ]
  },
  {
   "cell_type": "code",
   "execution_count": 33,
   "metadata": {},
   "outputs": [
    {
     "name": "stdout",
     "output_type": "stream",
     "text": [
      "\"  MynameisIshviGarhwal\"\n"
     ]
    }
   ],
   "source": [
    "#44 Write a Python program to move spaces to the front of a given string.\n",
    "\n",
    "n = input('Enter string: ')     #n = My name is Ishvi Garhwal\n",
    "m = n.replace(' ', '')\n",
    "print('\"',' '+m+'\"')"
   ]
  },
  {
   "cell_type": "code",
   "execution_count": 1,
   "metadata": {},
   "outputs": [
    {
     "name": "stdout",
     "output_type": "stream",
     "text": [
      "Maximum occurring character is o\n"
     ]
    }
   ],
   "source": [
    "#45 Write a Python program to find the maximum occurring character in a given string.\n",
    "\n",
    "n = input('Enter string: ')     #n = google.com\n",
    "f = {}\n",
    "for i in n:\n",
    "    if i in f:\n",
    "        f[i] = f[i] + 1\n",
    "    else:\n",
    "        f[i] = 1\n",
    "print('Maximum occurring character is',max(f))\n"
   ]
  },
  {
   "cell_type": "code",
   "execution_count": 41,
   "metadata": {},
   "outputs": [
    {
     "name": "stdout",
     "output_type": "stream",
     "text": [
      "HellO\n"
     ]
    }
   ],
   "source": [
    "#46 Write a Python program to capitalize first and last letters of each word of a given string.\n",
    "\n",
    "n = input('Enter string: ')     #n = hello\n",
    "print(n[0].upper()+n[1:-1]+n[-1].upper())"
   ]
  },
  {
   "cell_type": "code",
   "execution_count": 44,
   "metadata": {},
   "outputs": [
    {
     "name": "stdout",
     "output_type": "stream",
     "text": [
      "Sum of digits in string:  25\n"
     ]
    }
   ],
   "source": [
    "#47 Write a Python program to compute sum of digits of a given string.\n",
    "\n",
    "n = input()     #n = hello56good67morning10\n",
    "ans = 0\n",
    "for i in n:\n",
    "    if i.isnumeric():\n",
    "        ans = ans + int(i)\n",
    "print('Sum of digits in string: ',ans)"
   ]
  }
 ],
 "metadata": {
  "interpreter": {
   "hash": "06cb67651ce969e244f20f184e33f4ddb1106793adfe07cf7ddc131c95c4012f"
  },
  "kernelspec": {
   "display_name": "Python 3.9.1 64-bit",
   "name": "python3"
  },
  "language_info": {
   "codemirror_mode": {
    "name": "ipython",
    "version": 3
   },
   "file_extension": ".py",
   "mimetype": "text/x-python",
   "name": "python",
   "nbconvert_exporter": "python",
   "pygments_lexer": "ipython3",
   "version": "3.9.1"
  },
  "orig_nbformat": 4
 },
 "nbformat": 4,
 "nbformat_minor": 2
}
