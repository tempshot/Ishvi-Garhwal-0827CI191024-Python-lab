{
 "cells": [
  {
   "cell_type": "code",
   "execution_count": 2,
   "metadata": {},
   "outputs": [
    {
     "name": "stdout",
     "output_type": "stream",
     "text": [
      "('garhwal', 7)\n"
     ]
    }
   ],
   "source": [
    "#48 Write a Python function that takes a list of words and returns the length of the longest one.\n",
    "\n",
    "def maxLength(n):\n",
    "    \n",
    "    max=0\n",
    "    word=\" \"\n",
    "    for i in n:\n",
    "        if len(i)>max:\n",
    "            max=len(i)\n",
    "            word=i\n",
    "    return word,max\n",
    "\n",
    "l = input().split()     #l = my name is ishvi garhwal\n",
    "print(maxLength(l))"
   ]
  },
  {
   "cell_type": "code",
   "execution_count": 7,
   "metadata": {},
   "outputs": [
    {
     "name": "stdout",
     "output_type": "stream",
     "text": [
      "17\n"
     ]
    }
   ],
   "source": [
    "#49 Write a function x(n) for computing an element in the sequence xn=n^2+1. Call the function for n=4 and write out the result.\n",
    "\n",
    "def calculate(n):\n",
    "    print(n**2+1)\n",
    "calculate(4)"
   ]
  },
  {
   "cell_type": "code",
   "execution_count": 8,
   "metadata": {},
   "outputs": [
    {
     "name": "stdout",
     "output_type": "stream",
     "text": [
      "0.8475\n"
     ]
    }
   ],
   "source": [
    "#50 Take the following Python code that stores a string: ‘str = 'Y-tatata-acropolis: 0.8475'. Use find and string slicing to extract the portion of the string after the colon character and then use the float function to convert the extracted string into a floating point number.\n",
    "\n",
    "str = 'Y-tatata-acropolis: 0.8475'\n",
    "\n",
    "x = str.find(':')\n",
    "y = str[x+1:]\n",
    "\n",
    "print(float(y))"
   ]
  },
  {
   "cell_type": "code",
   "execution_count": 10,
   "metadata": {},
   "outputs": [
    {
     "name": "stdout",
     "output_type": "stream",
     "text": [
      "Middle value is:  [45]\n"
     ]
    }
   ],
   "source": [
    "#51 Write a function that returns the middle value among three integers. (Hint: make use of min() and max()). Write code to test this function with different inputs.\n",
    "\n",
    "l = list(map(int, input().split()))     #l = 45 78 43\n",
    "l.remove(min(l))\n",
    "l.remove(max(l))\n",
    "print('Middle value is: ',l)"
   ]
  },
  {
   "cell_type": "code",
   "execution_count": 13,
   "metadata": {},
   "outputs": [
    {
     "name": "stdout",
     "output_type": "stream",
     "text": [
      "214\n"
     ]
    }
   ],
   "source": [
    "#52 Write a function that computes the area of a rectangle. Then, write a second function that calls this function three times to compute the surface area of a rectangular solid.\n",
    "\n",
    "def area(l,b):\n",
    "    return (l*b)\n",
    "\n",
    "def second_area(l,b,h):\n",
    "    return (2*area(l,b)+ 2*area(b,h)+ 2*area(h,l))\n",
    "\n",
    "l,b,h = map(int, input().split())       #l = 5, b = 6, h = 7\n",
    "print(second_area(l,b,h))"
   ]
  },
  {
   "cell_type": "code",
   "execution_count": 14,
   "metadata": {},
   "outputs": [
    {
     "name": "stdout",
     "output_type": "stream",
     "text": [
      "23\n"
     ]
    }
   ],
   "source": [
    "#53 Create an outer function that will accept three parameters, a, b and c. Create an inner function inside an outer function that will calculate the addition of a, b and c. At last, an outer function will add 5 into addition and return it \n",
    "\n",
    "def outer(a,b,c):\n",
    "    \n",
    "    def inner(a,b,c):\n",
    "        return a+b+c\n",
    "    \n",
    "    x=inner(a,b,c)\n",
    "    \n",
    "    return x+5\n",
    "\n",
    "a,b,c = map(int, input().split())       #a = 5, b = 6, c = 7\n",
    "print(outer(a,b,c))"
   ]
  },
  {
   "cell_type": "code",
   "execution_count": 16,
   "metadata": {},
   "outputs": [
    {
     "name": "stdout",
     "output_type": "stream",
     "text": [
      "25718203109552511210785724993459738891841922471445552653382099838849647264448279213222405196251245118566385009046302843433417441280000000000000000000000\n"
     ]
    }
   ],
   "source": [
    "#54 Write a program to create a recursive function to calculate the product of numbers from 10 to 100.\n",
    "\n",
    "def recursive(x):\n",
    "    if(x==10):\n",
    "        return 1\n",
    "    return (x*recursive(x-1))\n",
    "\n",
    "print(recursive(100))"
   ]
  },
  {
   "cell_type": "code",
   "execution_count": 16,
   "metadata": {},
   "outputs": [
    {
     "name": "stdout",
     "output_type": "stream",
     "text": [
      "120\n"
     ]
    }
   ],
   "source": [
    "#55 Write a Python function to calculate the factorial of a number (a non-negative integer). The function accepts the number as an argument.\n",
    "\n",
    "def factorial(x):\n",
    "    if(x==1):\n",
    "        return 1\n",
    "    return (x*factorial(x-1))\n",
    "n = int(input())        #n = 5\n",
    "print(factorial(n))"
   ]
  },
  {
   "cell_type": "code",
   "execution_count": 2,
   "metadata": {},
   "outputs": [
    {
     "name": "stdout",
     "output_type": "stream",
     "text": [
      "105 108 112 117 119 126 133 135 140 144 147 153 154 161 162 168 171 175 180 182 189 196 198 203 207 210 216 217 224 225 231 234 238 243 245 252 259 261 266 270 273 279 280 287 288 294 297 301 306 308 315 322 324 329 333 336 342 343 350 351 357 360 364 369 371 378 385 387 392 396 399 405 406 413 414 420 423 427 432 434 441 448 450 455 459 462 468 469 476 477 483 486 490 495 497 "
     ]
    }
   ],
   "source": [
    "#56 Write a Python function to display all the multiples of  7 & 9 within the range 100 to 500.\n",
    "\n",
    "def multiple():\n",
    "    for i in range(100, 501):\n",
    "        if i%7 == 0:\n",
    "            print(i, end=' ')\n",
    "        elif i%9 == 0:\n",
    "            print(i, end=' ')\n",
    "multiple()"
   ]
  },
  {
   "cell_type": "code",
   "execution_count": 4,
   "metadata": {},
   "outputs": [
    {
     "name": "stdout",
     "output_type": "stream",
     "text": [
      "31 is not prime number.\n"
     ]
    }
   ],
   "source": [
    "#57. Write a Python function to check whether the given integer is a prime number or not.\n",
    "\n",
    "\n",
    "def prime(n):\n",
    "    if n == 2 or n == 1:\n",
    "        print(n, 'is a prime number')\n",
    "    else:\n",
    "        for i in range(3,n):\n",
    "            if n%i == 0:\n",
    "                print(n,'is not prime number.')\n",
    "                break\n",
    "        else:\n",
    "            print(n,'is not prime number.')\n",
    "n = int(input('Enter number: '))        #n = 31\n",
    "prime(n)\n"
   ]
  },
  {
   "cell_type": "code",
   "execution_count": 6,
   "metadata": {},
   "outputs": [
    {
     "name": "stdout",
     "output_type": "stream",
     "text": [
      "Yes, it is a armstrong number\n"
     ]
    }
   ],
   "source": [
    "#58. Write a Python function that checks whether a passed interger is armstrong or not.\n",
    "\n",
    "def armstrong(n):\n",
    "    ans = 0\n",
    "    for i in range(len(n)):\n",
    "        ans = ans + int(n[i])**len(n)\n",
    "    if ans == int(n):\n",
    "        print('Yes, it is a armstrong number')\n",
    "    else:\n",
    "        print('No, it is not a armstrong number')\n",
    "n = input()         #n = 371\n",
    "armstrong(n)"
   ]
  },
  {
   "cell_type": "code",
   "execution_count": 7,
   "metadata": {},
   "outputs": [
    {
     "name": "stdout",
     "output_type": "stream",
     "text": [
      "ishvi\n"
     ]
    }
   ],
   "source": [
    "#59.Program to return a function from another function.\n",
    "\n",
    "def first(n):\n",
    "    return n\n",
    "def another(x):\n",
    "    print(first(x))\n",
    "x = input()     #x = ishvi\n",
    "another(x) "
   ]
  },
  {
   "cell_type": "code",
   "execution_count": 10,
   "metadata": {},
   "outputs": [
    {
     "name": "stdout",
     "output_type": "stream",
     "text": [
      "Start Process\n"
     ]
    }
   ],
   "source": [
    "#60. First, def a function, start_process, that takes one argument p. Then, if the start_process function receives an p equal to \"Yes\", it should return \"Start Process\" Alternatively, elif p is equal to \"No\", then the function should return \"Start Process Aborted\". Finally, if start_process gets anything other than those inputs, the function should return \"Sorry for the input\".\n",
    "\n",
    "def start_process(p):\n",
    "    if p==\"yes\":\n",
    "        return (\"Start Process\")\n",
    "    elif p==\"no\":\n",
    "        return \"Start process Aborted\"\n",
    "    else:\n",
    "        return \"Sorry for the input\"\n",
    "\n",
    "p = input('Enter your request: ')   #p = yes\n",
    "print(start_process(p))"
   ]
  },
  {
   "cell_type": "code",
   "execution_count": 14,
   "metadata": {},
   "outputs": [
    {
     "name": "stdout",
     "output_type": "stream",
     "text": [
      "9.6\n",
      "No value\n"
     ]
    }
   ],
   "source": [
    "#61. First, def a function called calculate_distance, with one argument (choose any argument name you like). If the type of the argument is either int or float, the function should return the absolute value of the function input. Otherwise, the function should return \"No value\". Check if it works calling the function with 9.6 and \"what?\".\n",
    "\n",
    "def calculate_distance(n):\n",
    "    if type(n)==float or type(n)==int:\n",
    "        if n<0:\n",
    "            return (-1*n)\n",
    "        else:\n",
    "            return n\n",
    "    else:\n",
    "        return \"No value\"\n",
    "print(calculate_distance(9.6))\n",
    "print(calculate_distance('what'))"
   ]
  }
 ],
 "metadata": {
  "interpreter": {
   "hash": "06cb67651ce969e244f20f184e33f4ddb1106793adfe07cf7ddc131c95c4012f"
  },
  "kernelspec": {
   "display_name": "Python 3.9.1 64-bit",
   "name": "python3"
  },
  "language_info": {
   "codemirror_mode": {
    "name": "ipython",
    "version": 3
   },
   "file_extension": ".py",
   "mimetype": "text/x-python",
   "name": "python",
   "nbconvert_exporter": "python",
   "pygments_lexer": "ipython3",
   "version": "3.9.1"
  },
  "orig_nbformat": 4
 },
 "nbformat": 4,
 "nbformat_minor": 2
}
