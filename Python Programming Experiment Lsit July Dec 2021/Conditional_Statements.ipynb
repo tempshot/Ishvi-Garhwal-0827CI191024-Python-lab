{
 "cells": [
  {
   "cell_type": "code",
   "execution_count": 1,
   "metadata": {},
   "outputs": [
    {
     "name": "stdout",
     "output_type": "stream",
     "text": [
      "Enter two integer numbers: \n",
      "Sum is:  134\n",
      "Product is:  4368\n"
     ]
    }
   ],
   "source": [
    "#8 Take two integer numbers return their sum. If the sum is greater than 100, then return their product.\n",
    "\n",
    "print('Enter two integer numbers: ')\n",
    "x,y = map(int, input().split())\n",
    "add = x+y       #x = 56, y = 78\n",
    "print('Sum is: ',add)\n",
    "if add>100:\n",
    "    print('Product is: ',x*y)"
   ]
  },
  {
   "cell_type": "code",
   "execution_count": 2,
   "metadata": {},
   "outputs": [
    {
     "name": "stdout",
     "output_type": "stream",
     "text": [
      "Enter three numbers: \n",
      "576\n"
     ]
    }
   ],
   "source": [
    "#9 Write a Python program to calculate the sum of three given numbers, if the values are not - equal then return four times of their sum\n",
    "\n",
    "print('Enter three numbers: ')\n",
    "x,y,z = map(int, input().split())\n",
    "if x == y == z:         #x = 56, y = 78, z = 10\n",
    "    print(x + y + z)\n",
    "else:\n",
    "    sum = x + y + z\n",
    "    print(sum*4) "
   ]
  },
  {
   "cell_type": "code",
   "execution_count": 3,
   "metadata": {},
   "outputs": [
    {
     "name": "stdout",
     "output_type": "stream",
     "text": [
      "Total amount with 50% discount 1500000.0\n"
     ]
    }
   ],
   "source": [
    "#10 A shop will give discount of 50% if the cost of purchased quantity is more than 10000. Ask user for quantity suppose, one unit will cost 100. Judge and print total cost for user.\n",
    "\n",
    "x = int(input(\"Enter quantity: \"))      #x = 30000\n",
    "y = x*100\n",
    "if x>10000:\n",
    "    print(\"Total amount with 50% discount\",y/2)\n",
    "else:\n",
    "    print(\"Total amount\",y)"
   ]
  },
  {
   "cell_type": "code",
   "execution_count": 4,
   "metadata": {},
   "outputs": [
    {
     "name": "stdout",
     "output_type": "stream",
     "text": [
      "Yes, divisible by 8\n",
      "Yes, divisible by 12\n"
     ]
    }
   ],
   "source": [
    "#11 To check whether a number is divisible by 8 and 12 or not.\n",
    "\n",
    "x = int(input(\"enter number: \"))        #x = 24\n",
    "if x%8 == 0:\n",
    "    print('Yes, divisible by 8')\n",
    "else:\n",
    "    print('No, not divisible by 8')\n",
    "if x%12 == 0:\n",
    "    print('Yes, divisible by 12')\n",
    "else:\n",
    "    print('No, not divisible by 12')"
   ]
  },
  {
   "cell_type": "code",
   "execution_count": 5,
   "metadata": {},
   "outputs": [
    {
     "name": "stdout",
     "output_type": "stream",
     "text": [
      "Number is even\n"
     ]
    }
   ],
   "source": [
    "#12 To check whether a given number is even or odd.\n",
    "\n",
    "x = int(input(\"Enter number: \"))    #x = 56\n",
    "if x%2==0:\n",
    "    print('Number is even')\n",
    "else:\n",
    "    print('Number is odd')"
   ]
  },
  {
   "cell_type": "code",
   "execution_count": 19,
   "metadata": {},
   "outputs": [
    {
     "name": "stdout",
     "output_type": "stream",
     "text": [
      "Total marks per subject is 100\n",
      "Percentage is:  82.4\n",
      "Grade B\n"
     ]
    }
   ],
   "source": [
    "#13 \"Write a program to input marks of five subjects Physics, Chemistry, Biology, Mathematics and Computer. Calculate percentage and grade according to following:\n",
    "# Percentage >= 90% : Grade A\n",
    "# Percentage >= 80% : Grade B\n",
    "# Percentage >= 70% : Grade C\n",
    "# Percentage >= 60% : Grade D\n",
    "# Percentage >= 40% : Grade E\n",
    "# Percentage < 40% :  Grade F\"\n",
    "\n",
    "print('Enter marks of Physics, Chemistry, Biology, Mathematics and Computer: ')\n",
    "ph,che,bio,math,com = map(int, input().split())\n",
    "print('Total marks per subject is 100')\n",
    "per = (ph+che+bio+math+com)/5\n",
    "print('Percentage is: ',per)\n",
    "if per>=90:\n",
    "    print('Grade A')\n",
    "elif per>=80:\n",
    "    print('Grade B')\n",
    "elif per>=70:\n",
    "    print('Grade C')\n",
    "elif per>=60:\n",
    "    print('Grade D')\n",
    "elif per>=40:\n",
    "    print('Grade E')\n",
    "else:\n",
    "    print('Grade F')"
   ]
  },
  {
   "cell_type": "code",
   "execution_count": 6,
   "metadata": {},
   "outputs": [
    {
     "name": "stdout",
     "output_type": "stream",
     "text": [
      "Enter age of three persons: \n",
      "Second person is oldest\n",
      "Third person is youngest\n"
     ]
    }
   ],
   "source": [
    "#14 Take input of age of 3 people by user and determine oldest and youngest among them.\n",
    "\n",
    "print('Enter age of three persons: ')\n",
    "a,b,c = map(int, input().split())       #a = 56, b = 78, c = 15 \n",
    "if a>b and a>c:\n",
    "    print('First person is oldest')\n",
    "elif b>a and b>c:\n",
    "    print('Second person is oldest')\n",
    "else:\n",
    "    print('Third person is oldest')\n",
    "if a<b and a<c:\n",
    "    print('First person is youngest')\n",
    "elif b<a and b<c:\n",
    "    print('Second person is youngest')\n",
    "else:\n",
    "    print('Third person is youngest')"
   ]
  },
  {
   "cell_type": "code",
   "execution_count": 6,
   "metadata": {},
   "outputs": [
    {
     "name": "stdout",
     "output_type": "stream",
     "text": [
      "Total Electricity Bill = Rs.  15.0\n"
     ]
    }
   ],
   "source": [
    "#15 \"Write a program to input electricity unit charges and calculate total electricity bill according to the given condition:\n",
    "# For first 50 units Rs. 0.50/unit\n",
    "# For next 100 units Rs. 0.75/unit\n",
    "# For next 100 units Rs. 1.20/unit\n",
    "# For unit above 250 Rs. 1.50/unit\n",
    "# An additional surcharge of 20% is added to the bill\"\n",
    "\n",
    "units = int(input(\"Enter Electricity Units: \"))\n",
    "total = 0\n",
    "if units <= 50:\n",
    "    total += units * 0.50\n",
    "elif units <= 150:\n",
    "    total += (50* 0.50) + ((units- 50) * 0.75)\n",
    "elif units < 250:\n",
    "    total + (50* 0.50) + (100* 0.75) + ((units- 150)* 1.20)\n",
    "else:\n",
    "    total + (50* 0.50) + (100* 0.75) + (100* 1.20) + ((units- 250)* 1.50)\n",
    "total += ((total * 20) / 100)\n",
    "print(\"Total Electricity Bill = Rs. \", total)\n"
   ]
  },
  {
   "cell_type": "code",
   "execution_count": 7,
   "metadata": {},
   "outputs": [
    {
     "name": "stdout",
     "output_type": "stream",
     "text": [
      "Enter total classes held and classes attended by student:\n",
      "Your attendance is 66.67\n",
      "You're not eligible for the exams because your attendace is less than 80%\n"
     ]
    }
   ],
   "source": [
    "#16 \"A student will not be allowed to sit in exam if his/her attendence is less than 80%.\n",
    "# Take following input from user\n",
    "# Total Number of classes held\n",
    "# Total Number of classes attended. And print percentage of class attended. Is student is allowed to sit in exam or not.\"\n",
    "\n",
    "print('Enter total classes held and classes attended by student:')\n",
    "classes, attended = map(int, input().split())       #classes = 150, attended = 100\n",
    "attendance = attended/classes*100\n",
    "print('Your attendance is %.2f'%attendance)\n",
    "if attendance>=80:\n",
    "    print(\"You're eligible for exams\")\n",
    "else:\n",
    "    print(\"You're not eligible for the exams because your attendace is less than 80%\")"
   ]
  }
 ],
 "metadata": {
  "interpreter": {
   "hash": "06cb67651ce969e244f20f184e33f4ddb1106793adfe07cf7ddc131c95c4012f"
  },
  "kernelspec": {
   "display_name": "Python 3.9.1 64-bit",
   "name": "python3"
  },
  "language_info": {
   "codemirror_mode": {
    "name": "ipython",
    "version": 3
   },
   "file_extension": ".py",
   "mimetype": "text/x-python",
   "name": "python",
   "nbconvert_exporter": "python",
   "pygments_lexer": "ipython3",
   "version": "3.9.1"
  },
  "orig_nbformat": 4
 },
 "nbformat": 4,
 "nbformat_minor": 2
}
