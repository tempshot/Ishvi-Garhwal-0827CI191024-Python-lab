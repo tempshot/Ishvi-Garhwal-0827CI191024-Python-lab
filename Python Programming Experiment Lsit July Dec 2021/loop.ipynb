{
 "cells": [
  {
   "cell_type": "code",
   "execution_count": 1,
   "metadata": {},
   "outputs": [
    {
     "name": "stdout",
     "output_type": "stream",
     "text": [
      "6\n"
     ]
    }
   ],
   "source": [
    "#18 \"Program to find digital sum of a given Number\n",
    "#    ex: n=123  Digital sum----->1+2+3=6\"\n",
    "\n",
    "n = input('Enter number: ')     #n = 123\n",
    "l = []\n",
    "sum = 0\n",
    "for i in range(len(n)):\n",
    "    l.append(int(n[i]))\n",
    "for j in range(len(l)):\n",
    "    sum = sum + l[j]\n",
    "print(sum)"
   ]
  },
  {
   "cell_type": "code",
   "execution_count": 2,
   "metadata": {},
   "outputs": [
    {
     "name": "stdout",
     "output_type": "stream",
     "text": [
      "24\n"
     ]
    }
   ],
   "source": [
    "#19 \"Program to find the digital product of a given number\n",
    "#    ex: n=43   Digital product ----->4*3=12\"\n",
    "n = input('Enter number: ')     #n = 432\n",
    "l = []\n",
    "multi = 1\n",
    "for i in range(len(n)):\n",
    "    l.append(int(n[i]))\n",
    "for j in range(len(l)):\n",
    "    multi = multi * l[j]\n",
    "print(multi)"
   ]
  },
  {
   "cell_type": "code",
   "execution_count": 7,
   "metadata": {},
   "outputs": [
    {
     "name": "stdout",
     "output_type": "stream",
     "text": [
      "Sum:  3703703700\n"
     ]
    }
   ],
   "source": [
    "#20 Find the sum of the series 3 +33 + 333 + 3333 + .. n terms\n",
    "\n",
    "n= int(input('Enter number of terms: '))    #n = 10\n",
    "ans=0\n",
    "z=0\n",
    "for i in range(n):\n",
    "    z = z + (3*(10**i))\n",
    "    ans = ans + z\n",
    "print('Sum: ',ans)\n"
   ]
  },
  {
   "cell_type": "code",
   "execution_count": 9,
   "metadata": {},
   "outputs": [
    {
     "name": "stdout",
     "output_type": "stream",
     "text": [
      "* \n",
      "* * \n",
      "* * * \n",
      "* * * * \n",
      "* * * * * \n",
      "* * * * \n",
      "* * * \n",
      "* * \n",
      "* \n",
      "\n"
     ]
    }
   ],
   "source": [
    "#21 Print the following pattern\n",
    "# * \n",
    "# * * \n",
    "# * * * \n",
    "# * * * * \n",
    "# * * * * * \n",
    "# * * * * \n",
    "# * * * \n",
    "# * * \n",
    "# *\n",
    "\n",
    "for i in range(5):\n",
    "    for j in range(i+1):\n",
    "        print(\"*\", end=' ')\n",
    "    print()\n",
    "for m in range(5,0,-1):\n",
    "    for n in range(m-1):\n",
    "        print(\"*\", end=' ')\n",
    "    print()"
   ]
  },
  {
   "cell_type": "code",
   "execution_count": 3,
   "metadata": {},
   "outputs": [
    {
     "name": "stdout",
     "output_type": "stream",
     "text": [
      "Reverse of the number is 4321\n"
     ]
    }
   ],
   "source": [
    "#22 Program to reverse a given Number.    ex: n=123   Reversed no is 321\n",
    "\n",
    "n = input('Enter number: ')         #n = 1234\n",
    "print('Reverse of the number is',n[::-1])"
   ]
  },
  {
   "cell_type": "code",
   "execution_count": 5,
   "metadata": {},
   "outputs": [
    {
     "name": "stdout",
     "output_type": "stream",
     "text": [
      "Yes, number is palindrome\n"
     ]
    }
   ],
   "source": [
    "#23 Program to check whether a given number is a palindrome or not\n",
    "\n",
    "n = input('Enter number: ')         #n = 1001\n",
    "if n == n[::-1]:\n",
    "    print('Yes, number is palindrome')\n",
    "else:\n",
    "    print('No, number is not palindrome')"
   ]
  },
  {
   "cell_type": "code",
   "execution_count": 7,
   "metadata": {},
   "outputs": [
    {
     "name": "stdout",
     "output_type": "stream",
     "text": [
      "Yes, it is a armstrong number\n"
     ]
    }
   ],
   "source": [
    "#24 Program to check whether a given number is an Armstrong number or not.\n",
    "\n",
    "n = input()         #n = 371\n",
    "ans = 0\n",
    "for i in range(len(n)):\n",
    "    ans = ans + int(n[i])**len(n)\n",
    "if ans == int(n):\n",
    "    print('Yes, it is a armstrong number')\n",
    "else:\n",
    "    print('No, it is not a armstrong number')"
   ]
  },
  {
   "cell_type": "code",
   "execution_count": 8,
   "metadata": {},
   "outputs": [
    {
     "name": "stdout",
     "output_type": "stream",
     "text": [
      "Factorial is:  362880\n"
     ]
    }
   ],
   "source": [
    "#25 Program to find factorial of a given number.\n",
    "\n",
    "n = int(input('Enter number: '))        #n = 9\n",
    "ans = 1\n",
    "for i in range(1,n+1):\n",
    "    ans = ans * i\n",
    "print('Factorial is: ',ans)"
   ]
  },
  {
   "cell_type": "code",
   "execution_count": 9,
   "metadata": {},
   "outputs": [
    {
     "name": "stdout",
     "output_type": "stream",
     "text": [
      "Yes, number is strong number\n"
     ]
    }
   ],
   "source": [
    "#26 \"Program to find whether a given number is a strong number or not.\n",
    "#   e.g. n=145\n",
    "#   1!+4!+5!==145\"\n",
    "\n",
    "n = input()     #n = 145 \n",
    "ans = 0\n",
    "for i in range(len(n)):\n",
    "    m = int(n[i])\n",
    "    fact = 1\n",
    "    for j in range(1,m+1):\n",
    "        fact = fact * j\n",
    "    ans = ans + fact\n",
    "if ans == int(n):\n",
    "    print('Yes, number is strong number')\n",
    "else:\n",
    "    print('No, number is not strong number')"
   ]
  },
  {
   "cell_type": "code",
   "execution_count": 10,
   "metadata": {},
   "outputs": [
    {
     "name": "stdout",
     "output_type": "stream",
     "text": [
      "6 is perfect number.\n"
     ]
    }
   ],
   "source": [
    "#28 Program to find whether a given number is a perfect number or not.\n",
    "\n",
    "n = int(input('Enter number: '))        #n = 6\n",
    "ans = 0\n",
    "for i in range(1,n):\n",
    "    if n%i == 0:\n",
    "        ans = ans + i\n",
    "if ans == n:\n",
    "    print(n, 'is perfect number.')\n",
    "else:\n",
    "    print(n, ' is not perfect number.')"
   ]
  },
  {
   "cell_type": "code",
   "execution_count": 10,
   "metadata": {},
   "outputs": [
    {
     "name": "stdout",
     "output_type": "stream",
     "text": [
      "13 is prime number.\n"
     ]
    }
   ],
   "source": [
    "#29 Program to find whether a given number is a prime number or not.\n",
    "\n",
    "n = int(input(\"Enter a number: \"))\n",
    "if n == 2 or n == 1:\n",
    "    print(n, 'is a prime number')\n",
    "else:\n",
    "    for i in range(2,n):\n",
    "        if n%i == 0:\n",
    "            print(n,'is not prime number.')\n",
    "            break\n",
    "    else:\n",
    "        print(n,'is prime number.')"
   ]
  },
  {
   "cell_type": "code",
   "execution_count": 37,
   "metadata": {},
   "outputs": [
    {
     "name": "stdout",
     "output_type": "stream",
     "text": [
      "* * * * * \n",
      "* * * * \n",
      "* * * \n",
      "* * \n",
      "* \n"
     ]
    }
   ],
   "source": [
    "#30 \"Print downward Half-Pyramid Pattern with Star (asterisk)\n",
    "# * * * * *  \n",
    "# * * * *  \n",
    "# * * *  \n",
    "# * *  \n",
    "# *\"\n",
    "\n",
    "for i in range(5,0,-1):\n",
    "    for j in range(i):\n",
    "        print('*', end=' ')\n",
    "    print()"
   ]
  },
  {
   "cell_type": "code",
   "execution_count": 12,
   "metadata": {},
   "outputs": [
    {
     "name": "stdout",
     "output_type": "stream",
     "text": [
      "1\n",
      "22\n",
      "333\n",
      "4444\n",
      "55555\n",
      "666666\n",
      "7777777\n",
      "88888888\n",
      "999999999\n"
     ]
    }
   ],
   "source": [
    "#31 \"Print  following pattern: \n",
    "# 1\n",
    "# 22\n",
    "# 333\n",
    "# 4444\n",
    "# 55555\n",
    "# 666666\n",
    "# 7777777\n",
    "# 88888888\n",
    "# 999999999\"\n",
    "\n",
    "for i in range(1,10):\n",
    "    for j in range(i):\n",
    "        print(i, end='')\n",
    "    print()"
   ]
  },
  {
   "cell_type": "code",
   "execution_count": 13,
   "metadata": {},
   "outputs": [
    {
     "name": "stdout",
     "output_type": "stream",
     "text": [
      "1\n",
      "12\n",
      "123\n",
      "1234\n",
      "12345\n",
      "123456\n",
      "1234567\n",
      "12345678\n",
      "123456789\n"
     ]
    }
   ],
   "source": [
    "#32 \"Print  following pattern: \n",
    "# 1\n",
    "# 12\n",
    "# 123\n",
    "# 1234\n",
    "# 12345\n",
    "# 123456\n",
    "# 1234567\n",
    "# 12345678\n",
    "# 123456789\"\n",
    "\n",
    "for i in range(1,10):\n",
    "    for j in range(1,i+1):\n",
    "        print(j, end='')\n",
    "    print()"
   ]
  },
  {
   "cell_type": "code",
   "execution_count": 11,
   "metadata": {},
   "outputs": [
    {
     "name": "stdout",
     "output_type": "stream",
     "text": [
      "\n",
      "A\n",
      "BB\n",
      "CCC\n",
      "DDDD\n",
      "EEEEE\n",
      "FFFFFF\n",
      "GGGGGGG\n"
     ]
    }
   ],
   "source": [
    "#33 \"Print following pattern: \n",
    "# A\n",
    "# BB\n",
    "# CCC\n",
    "# DDDD\n",
    "# EEEEE\n",
    "# FFFFFF\n",
    "# GGGGGGG\"\n",
    "\n",
    "for i in range(8):\n",
    "    print(chr(64+i)*i)"
   ]
  }
 ],
 "metadata": {
  "interpreter": {
   "hash": "06cb67651ce969e244f20f184e33f4ddb1106793adfe07cf7ddc131c95c4012f"
  },
  "kernelspec": {
   "display_name": "Python 3.9.1 64-bit",
   "name": "python3"
  },
  "language_info": {
   "codemirror_mode": {
    "name": "ipython",
    "version": 3
   },
   "file_extension": ".py",
   "mimetype": "text/x-python",
   "name": "python",
   "nbconvert_exporter": "python",
   "pygments_lexer": "ipython3",
   "version": "3.9.1"
  },
  "orig_nbformat": 4
 },
 "nbformat": 4,
 "nbformat_minor": 2
}
