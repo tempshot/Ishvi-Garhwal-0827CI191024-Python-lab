{
 "cells": [
  {
   "cell_type": "code",
   "execution_count": 12,
   "metadata": {},
   "outputs": [
    {
     "name": "stdout",
     "output_type": "stream",
     "text": [
      "Sum of the list is 201\n"
     ]
    }
   ],
   "source": [
    "#62 Python program to display the sum of input (n) numbers using a list.\n",
    "\n",
    "l = list(map(int, input().split()))   #l = 10 12 45 56 78 \n",
    "sum = 0\n",
    "for i in l:\n",
    "    sum = sum + i\n",
    "print('Sum of the list is',sum)"
   ]
  },
  {
   "cell_type": "code",
   "execution_count": 10,
   "metadata": {},
   "outputs": [
    {
     "name": "stdout",
     "output_type": "stream",
     "text": [
      "Enter list: \n",
      "Enter at which position and what element to insert: \n",
      "Updated list:  ['10', '45', '6', '56', '3', '87', '9']\n"
     ]
    }
   ],
   "source": [
    "#63 Python program to insert a number to given position in a list.\n",
    "\n",
    "print('Enter list: ')\n",
    "l = input().split()         #l = 10 45 6 3 87 9 \n",
    "print('Enter at which position and what element to insert: ')       \n",
    "pos, elmnt = input().split()        #pos = 3, elmnt = 56\n",
    "l.insert(int(pos), elmnt)\n",
    "print('Updated list: ',l)"
   ]
  },
  {
   "cell_type": "code",
   "execution_count": 5,
   "metadata": {},
   "outputs": [
    {
     "name": "stdout",
     "output_type": "stream",
     "text": [
      "[7, 5, 0, 9, 1, 56, 2]\n",
      "Maximum number is 56\n",
      "Minimum number is 0\n"
     ]
    }
   ],
   "source": [
    "#64 Write the program that prompts the user for a list of numbers and prints out the maximum and minimum of the numbers at the end when the user enters “done”. Write the program to store the numbers the user enters in a list and use the max() and min() functions to compute the maximum and minimum numbers after the loop completes.\n",
    "\n",
    "l= []\n",
    "while True:\n",
    "    x=input()       #x = 7 5 0 9 1 56 2\n",
    "    if x=='done':\n",
    "        break\n",
    "    else:\n",
    "        l.append(int(x))\n",
    "print(l)\n",
    "print(\"Maximum number is\",max(l))\n",
    "print(\"Minimum number is\",min(l))"
   ]
  },
  {
   "cell_type": "code",
   "execution_count": 22,
   "metadata": {},
   "outputs": [
    {
     "name": "stdout",
     "output_type": "stream",
     "text": [
      "[12, 56, 78, 45, 23]\n",
      "Maximum number is 78\n",
      "Minimum number is 12\n"
     ]
    }
   ],
   "source": [
    "#65 Write another program that prompts for a list of numbers as above and at the end prints out both the maximum and minimum of the numbers.\n",
    "\n",
    "l = list(map(int,input().split()))        #l = 12 56 78 45 23 \n",
    "print(l)\n",
    "print(\"Maximum number is\",max(l))\n",
    "print(\"Minimum number is\",min(l))"
   ]
  },
  {
   "cell_type": "code",
   "execution_count": 29,
   "metadata": {},
   "outputs": [
    {
     "name": "stdout",
     "output_type": "stream",
     "text": [
      "Original list:  [10, 45, 78, 96, 52, 41]\n",
      "Updated list:  [10, 45, 78, 52, 41]\n"
     ]
    }
   ],
   "source": [
    "#66 Python program to delete an element from a list by index which is given by the user.\n",
    "\n",
    "l = list(map(int,input().split()))      #l = 10 45 78 96 52 41\n",
    "n = int(input('Enter index of number to delete: '))       #n = 3\n",
    "print('Original list: ',l)\n",
    "del l[n]\n",
    "print('Updated list: ',l)"
   ]
  },
  {
   "cell_type": "code",
   "execution_count": 32,
   "metadata": {},
   "outputs": [
    {
     "name": "stdout",
     "output_type": "stream",
     "text": [
      "Original list [10, 45, 78, 96, 52, 41, 11, 22]\n",
      "Updated list [78, 96, 41, 11, 22]\n"
     ]
    }
   ],
   "source": [
    "#67 Write a Python program to print a specified list after removing the 1st, 2nd and 5th elements.\n",
    "\n",
    "l = [10, 45, 78, 96, 52, 41, 11, 22]\n",
    "print('Original list',l)\n",
    "del l[0]\n",
    "del l[0]\n",
    "del l[2]\n",
    "print('Updated list',l)\n"
   ]
  },
  {
   "cell_type": "code",
   "execution_count": 37,
   "metadata": {},
   "outputs": [
    {
     "name": "stdout",
     "output_type": "stream",
     "text": [
      "List:  [10, 45, 78, 96, 52, 41]\n",
      "Numbers greater than 50 in the above list:  [78, 96, 52]\n"
     ]
    }
   ],
   "source": [
    "#69 Write a Python program to find all the values in a list are greater than a given number.\n",
    "\n",
    "x = list(map(int,input().split()))      #x = 10 45 78 96 52 41\n",
    "y = []\n",
    "n = int(input())        #n = 50\n",
    "for i in x:\n",
    "    if n < i:\n",
    "        y.append(i)\n",
    "print('List: ',x)\n",
    "print('Numbers greater than',n,'in the above list: ',y)"
   ]
  },
  {
   "cell_type": "code",
   "execution_count": 39,
   "metadata": {},
   "outputs": [
    {
     "name": "stdout",
     "output_type": "stream",
     "text": [
      "List:  [1, 2, 3, 4, 5, 6, 7, 8, 9]\n",
      "Even numbers are:  [2, 4, 6, 8]\n"
     ]
    }
   ],
   "source": [
    "#70 Python program to find the even numbers in a List.\n",
    "\n",
    "l = list(map(int, input().split()))     #l = 1 2 3 4 5 6 7 8 9\n",
    "y = []\n",
    "for i in l:\n",
    "    if i%2 == 0:\n",
    "        y.append(i)\n",
    "print('List: ',l)\n",
    "print('Even numbers are: ',y)"
   ]
  }
 ],
 "metadata": {
  "interpreter": {
   "hash": "06cb67651ce969e244f20f184e33f4ddb1106793adfe07cf7ddc131c95c4012f"
  },
  "kernelspec": {
   "display_name": "Python 3.9.1 64-bit",
   "name": "python3"
  },
  "language_info": {
   "codemirror_mode": {
    "name": "ipython",
    "version": 3
   },
   "file_extension": ".py",
   "mimetype": "text/x-python",
   "name": "python",
   "nbconvert_exporter": "python",
   "pygments_lexer": "ipython3",
   "version": "3.9.1"
  },
  "orig_nbformat": 4
 },
 "nbformat": 4,
 "nbformat_minor": 2
}
