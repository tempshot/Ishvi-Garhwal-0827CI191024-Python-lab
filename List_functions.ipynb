{
 "cells": [
  {
   "cell_type": "code",
   "execution_count": 1,
   "source": [
    "l=list() #list declaration"
   ],
   "outputs": [],
   "metadata": {}
  },
  {
   "cell_type": "code",
   "execution_count": 2,
   "source": [
    "#list append\r\n",
    "l.append(1)\r\n",
    "l.append(9)\r\n",
    "l.append(5)\r\n",
    "l.append(3)\r\n",
    "l.append(8)\r\n",
    "l.append(4)\r\n",
    "print(l)\r\n",
    "\r\n"
   ],
   "outputs": [
    {
     "output_type": "stream",
     "name": "stdout",
     "text": [
      "[1, 9, 5, 3, 8, 4]\n"
     ]
    }
   ],
   "metadata": {}
  },
  {
   "cell_type": "code",
   "execution_count": 3,
   "source": [
    "#sorting of list\r\n",
    "l.sort()\r\n",
    "l"
   ],
   "outputs": [
    {
     "output_type": "execute_result",
     "data": {
      "text/plain": [
       "[1, 3, 4, 5, 8, 9]"
      ]
     },
     "metadata": {},
     "execution_count": 3
    }
   ],
   "metadata": {}
  },
  {
   "cell_type": "code",
   "execution_count": 4,
   "source": [
    "#deleting elements of list\r\n",
    "print(l)\r\n",
    "l.remove(9)\r\n",
    "print(l)"
   ],
   "outputs": [
    {
     "output_type": "stream",
     "name": "stdout",
     "text": [
      "[1, 3, 4, 5, 8, 9]\n",
      "[1, 3, 4, 5, 8]\n"
     ]
    }
   ],
   "metadata": {}
  },
  {
   "cell_type": "code",
   "execution_count": 5,
   "source": [
    "#print reverse of list\r\n",
    "l.reverse()\r\n",
    "print(l)"
   ],
   "outputs": [
    {
     "output_type": "stream",
     "name": "stdout",
     "text": [
      "[8, 5, 4, 3, 1]\n"
     ]
    }
   ],
   "metadata": {}
  },
  {
   "cell_type": "code",
   "execution_count": 6,
   "source": [
    "#list slicing\r\n",
    "#print elements from index 2 to 4\r\n",
    "print( l[2:4] )"
   ],
   "outputs": [
    {
     "output_type": "stream",
     "name": "stdout",
     "text": [
      "[4, 3]\n"
     ]
    }
   ],
   "metadata": {}
  },
  {
   "cell_type": "code",
   "execution_count": 7,
   "source": [
    "# adding different data type in list\r\n",
    "l.append('san')\r\n",
    "print(l)"
   ],
   "outputs": [
    {
     "output_type": "stream",
     "name": "stdout",
     "text": [
      "[8, 5, 4, 3, 1, 'san']\n"
     ]
    }
   ],
   "metadata": {}
  },
  {
   "cell_type": "code",
   "execution_count": 8,
   "source": [
    "#another deleting method\r\n",
    "del l[-1]   #deleting last element\r\n",
    "print(l)"
   ],
   "outputs": [
    {
     "output_type": "stream",
     "name": "stdout",
     "text": [
      "[8, 5, 4, 3, 1]\n"
     ]
    }
   ],
   "metadata": {}
  },
  {
   "cell_type": "code",
   "execution_count": 9,
   "source": [
    "# appending a nested list in a list\r\n",
    "l1=[5,4,7,2,3,4,6]\r\n",
    "l.append(l1)\r\n",
    "print(l)"
   ],
   "outputs": [
    {
     "output_type": "stream",
     "name": "stdout",
     "text": [
      "[8, 5, 4, 3, 1, [5, 4, 7, 2, 3, 4, 6]]\n"
     ]
    }
   ],
   "metadata": {}
  },
  {
   "cell_type": "code",
   "execution_count": 10,
   "source": [
    "#clear full list\r\n",
    "l.clear()\r\n",
    "print(l)"
   ],
   "outputs": [
    {
     "output_type": "stream",
     "name": "stdout",
     "text": [
      "[]\n"
     ]
    }
   ],
   "metadata": {}
  },
  {
   "cell_type": "code",
   "execution_count": 11,
   "source": [
    "# make a list containing squares of numbers from 1 to 10\r\n",
    "squares= [(x+1)**2 for x in range(10)]\r\n",
    "print(squares)"
   ],
   "outputs": [
    {
     "output_type": "stream",
     "name": "stdout",
     "text": [
      "[1, 4, 9, 16, 25, 36, 49, 64, 81, 100]\n"
     ]
    }
   ],
   "metadata": {}
  },
  {
   "cell_type": "code",
   "execution_count": 12,
   "source": [
    "# concatinating two different list\r\n",
    "\r\n",
    "print([x+y for x in ['Python ','Cpp '] for y in ['Language','Programming']])"
   ],
   "outputs": [
    {
     "output_type": "stream",
     "name": "stdout",
     "text": [
      "['Python Language', 'Python Programming', 'Cpp Language', 'Cpp Programming']\n"
     ]
    }
   ],
   "metadata": {}
  },
  {
   "cell_type": "code",
   "execution_count": 13,
   "source": [
    "for name in ['Ram','Shaam','Geeta']:\r\n",
    "    print('Lord',name)"
   ],
   "outputs": [
    {
     "output_type": "stream",
     "name": "stdout",
     "text": [
      "Lord Ram\n",
      "Lord Shaam\n",
      "Lord Geeta\n"
     ]
    }
   ],
   "metadata": {}
  },
  {
   "cell_type": "code",
   "execution_count": 14,
   "source": [
    "\r\n",
    "alphabets = ['a', 'e', 'i', 'o', 'g', 'l', 'i', 'u']\r\n",
    "\r\n",
    " \r\n",
    "index = alphabets.index('e')    \r\n",
    "\r\n",
    "print('The index of e:', index)\r\n"
   ],
   "outputs": [
    {
     "output_type": "stream",
     "name": "stdout",
     "text": [
      "The index of e: 1\n"
     ]
    }
   ],
   "metadata": {}
  },
  {
   "cell_type": "code",
   "execution_count": 15,
   "source": [
    "\r\n",
    "# 'i' after the 4th index is searched\r\n",
    "index = alphabets.index('i', 4)    \r\n",
    "\r\n",
    "print('The index of i:', index)\r\n"
   ],
   "outputs": [
    {
     "output_type": "stream",
     "name": "stdout",
     "text": [
      "The index of i: 6\n"
     ]
    }
   ],
   "metadata": {}
  },
  {
   "cell_type": "code",
   "execution_count": 16,
   "source": [
    "\r\n",
    "# 'i' between 3rd and 5th index is searched\r\n",
    "index = alphabets.index('i', 3, 7)   \r\n",
    "\r\n",
    "print('The index of i:', index)"
   ],
   "outputs": [
    {
     "output_type": "stream",
     "name": "stdout",
     "text": [
      "The index of i: 6\n"
     ]
    }
   ],
   "metadata": {}
  },
  {
   "cell_type": "code",
   "execution_count": 17,
   "source": [
    "a= [1, 2]\r\n",
    "b = [3, 4]\r\n",
    "\r\n",
    "a += b     \r\n",
    "\r\n",
    "print('a =', a)\r\n",
    "print('b =', b)\r\n"
   ],
   "outputs": [
    {
     "output_type": "stream",
     "name": "stdout",
     "text": [
      "a = [1, 2, 3, 4]\n",
      "b = [3, 4]\n"
     ]
    }
   ],
   "metadata": {}
  },
  {
   "cell_type": "code",
   "execution_count": 18,
   "source": [
    "a = [1, 2]\r\n",
    "b = [3, 4]\r\n",
    "\r\n",
    "a[len(a):] = b\r\n",
    "\r\n",
    "print('a =', a)\r\n"
   ],
   "outputs": [
    {
     "output_type": "stream",
     "name": "stdout",
     "text": [
      "a = [1, 2, 3, 4]\n"
     ]
    }
   ],
   "metadata": {}
  },
  {
   "cell_type": "code",
   "execution_count": 19,
   "source": [
    "\r\n",
    "# difference b/w extend and append\r\n",
    "\r\n",
    "a1 = [1, 2]\r\n",
    "a2 = [1, 2]\r\n",
    "b = (3, 4)\r\n",
    "\r\n",
    " \r\n",
    "a1.extend(b) # new tuple will be added a different elements in list\r\n",
    "print(a1)\r\n",
    "\r\n",
    "a2.append(b) # new tuple will be directly appended as a tuple in list with index=-2\r\n",
    "print(a2)\r\n"
   ],
   "outputs": [
    {
     "output_type": "stream",
     "name": "stdout",
     "text": [
      "[1, 2, 3, 4]\n",
      "[1, 2, (3, 4)]\n"
     ]
    }
   ],
   "metadata": {}
  },
  {
   "cell_type": "code",
   "execution_count": 20,
   "source": [
    "# Copying list \r\n",
    "my_list = ['cat', 0, 6.7]\r\n",
    "\r\n",
    " \r\n",
    "new_list = my_list.copy()\r\n",
    "\r\n",
    "\r\n",
    "print('Copied List:', new_list)\r\n"
   ],
   "outputs": [
    {
     "output_type": "stream",
     "name": "stdout",
     "text": [
      "Copied List: ['cat', 0, 6.7]\n"
     ]
    }
   ],
   "metadata": {}
  },
  {
   "cell_type": "code",
   "execution_count": 21,
   "source": [
    "old_list = [1, 2, 3]\r\n",
    "\r\n",
    "# copy list using =\r\n",
    "new_list = old_list\r\n",
    "\r\n",
    "\r\n",
    "# add an element to list\r\n",
    "new_list.append('a')\r\n",
    "\r\n",
    "print('New List:', new_list)\r\n",
    "print('Old List:', old_list)\r\n"
   ],
   "outputs": [
    {
     "output_type": "stream",
     "name": "stdout",
     "text": [
      "New List: [1, 2, 3, 'a']\n",
      "Old List: [1, 2, 3, 'a']\n"
     ]
    }
   ],
   "metadata": {}
  },
  {
   "cell_type": "code",
   "execution_count": 22,
   "source": [
    "\r\n",
    "\r\n",
    "# shallow copy using the slicing syntax\r\n",
    "\r\n",
    "# mixed list\r\n",
    "list = ['cat', 0, 6.7]\r\n",
    "\r\n",
    "# copying a list using slicing\r\n",
    "new_list = list[:]\r\n",
    "\r\n",
    "\r\n",
    "# Adding an element to the new list\r\n",
    "new_list.append('dog')\r\n",
    "\r\n",
    "# Printing new and old list\r\n",
    "print('Old List:', list)\r\n",
    "print('New List:', new_list)\r\n",
    "\r\n"
   ],
   "outputs": [
    {
     "output_type": "stream",
     "name": "stdout",
     "text": [
      "Old List: ['cat', 0, 6.7]\n",
      "New List: ['cat', 0, 6.7, 'dog']\n"
     ]
    }
   ],
   "metadata": {}
  },
  {
   "cell_type": "code",
   "execution_count": 23,
   "source": [
    "def takeSecond(elem):\r\n",
    "    return elem[1]\r\n",
    "\r\n",
    "# random list\r\n",
    "random = [(2, 2), (3, 4), (4, 1), (1, 3)]\r\n",
    "\r\n",
    "# sort list with key\r\n",
    "random.sort(key=takeSecond)\r\n",
    "\r\n",
    "print('Sorted list:', random)"
   ],
   "outputs": [
    {
     "output_type": "stream",
     "name": "stdout",
     "text": [
      "Sorted list: [(4, 1), (2, 2), (1, 3), (3, 4)]\n"
     ]
    }
   ],
   "metadata": {}
  },
  {
   "cell_type": "code",
   "execution_count": 24,
   "source": [
    "employees = [\r\n",
    "    {'Name': 'Alan Turing', 'age': 25, 'salary': 10000},\r\n",
    "    {'Name': 'Sharon Lin', 'age': 30, 'salary': 8000},\r\n",
    "    {'Name': 'John Hopkins', 'age': 18, 'salary': 1000},\r\n",
    "    {'Name': 'Mikhail Tal', 'age': 40, 'salary': 15000},\r\n",
    "]\r\n",
    "\r\n",
    "# custom functions to get employee info\r\n",
    "def get_name(employee):\r\n",
    "    return employee.get('Name')\r\n",
    "\r\n",
    "\r\n",
    "def get_age(employee):\r\n",
    "    return employee.get('age')\r\n",
    "\r\n",
    "\r\n",
    "def get_salary(employee):\r\n",
    "    return employee.get('salary')\r\n",
    "\r\n",
    "\r\n",
    "print('sort by name (Ascending order)')\r\n",
    "employees.sort(key=get_name)\r\n",
    "print(employees, end='\\n\\n')\r\n",
    "\r\n",
    "print('sort by Age (Ascending order)')\r\n",
    "employees.sort(key=get_age)\r\n",
    "print(employees, end='\\n\\n')\r\n",
    "\r\n",
    "print('sort by salary (Descending order)')\r\n",
    "employees.sort(key=get_salary, reverse=True)\r\n",
    "print(employees, end='\\n\\n')\r\n",
    "\r\n"
   ],
   "outputs": [
    {
     "output_type": "stream",
     "name": "stdout",
     "text": [
      "sort by name (Ascending order)\n",
      "[{'Name': 'Alan Turing', 'age': 25, 'salary': 10000}, {'Name': 'John Hopkins', 'age': 18, 'salary': 1000}, {'Name': 'Mikhail Tal', 'age': 40, 'salary': 15000}, {'Name': 'Sharon Lin', 'age': 30, 'salary': 8000}]\n",
      "\n",
      "sort by Age (Ascending order)\n",
      "[{'Name': 'John Hopkins', 'age': 18, 'salary': 1000}, {'Name': 'Alan Turing', 'age': 25, 'salary': 10000}, {'Name': 'Sharon Lin', 'age': 30, 'salary': 8000}, {'Name': 'Mikhail Tal', 'age': 40, 'salary': 15000}]\n",
      "\n",
      "sort by salary (Descending order)\n",
      "[{'Name': 'Mikhail Tal', 'age': 40, 'salary': 15000}, {'Name': 'Alan Turing', 'age': 25, 'salary': 10000}, {'Name': 'Sharon Lin', 'age': 30, 'salary': 8000}, {'Name': 'John Hopkins', 'age': 18, 'salary': 1000}]\n",
      "\n"
     ]
    }
   ],
   "metadata": {}
  },
  {
   "cell_type": "code",
   "execution_count": null,
   "source": [],
   "outputs": [],
   "metadata": {}
  }
 ],
 "metadata": {
  "interpreter": {
   "hash": "06cb67651ce969e244f20f184e33f4ddb1106793adfe07cf7ddc131c95c4012f"
  },
  "kernelspec": {
   "name": "python3",
   "display_name": "Python 3.9.1 64-bit"
  },
  "language_info": {
   "codemirror_mode": {
    "name": "ipython",
    "version": 3
   },
   "file_extension": ".py",
   "mimetype": "text/x-python",
   "name": "python",
   "nbconvert_exporter": "python",
   "pygments_lexer": "ipython3",
   "version": "3.9.1"
  }
 },
 "nbformat": 4,
 "nbformat_minor": 2
}