{
 "cells": [
  {
   "cell_type": "code",
   "execution_count": 54,
   "source": [
    "# How to declare dictionary\r\n",
    "my_dict = {\r\n",
    "    'name': 'Ishvi',\r\n",
    "    'surname': 'Garhwal',\r\n",
    "    'DOB': '23/02/2002'\r\n",
    "}\r\n",
    "print(my_dict)\r\n",
    "print(my_dict['name'])      # accessing any particular value\r\n",
    "print(len(my_dict))         # finding length of dictionary\r\n",
    "print(type(my_dict))         "
   ],
   "outputs": [
    {
     "output_type": "stream",
     "name": "stdout",
     "text": [
      "{'name': 'Ishvi', 'surname': 'Garhwal', 'DOB': '23/02/2002'}\n",
      "Ishvi\n",
      "3\n",
      "<class 'dict'>\n"
     ]
    }
   ],
   "metadata": {}
  },
  {
   "cell_type": "code",
   "execution_count": 55,
   "source": [
    "# Dictionary with diffrent data types\r\n",
    "my_dict = {\r\n",
    "    1 : 'Ishvi',\r\n",
    "    2 : [1,2,3],\r\n",
    "    3 : {'1','2,','3'}\r\n",
    "}\r\n",
    "print(my_dict)"
   ],
   "outputs": [
    {
     "output_type": "stream",
     "name": "stdout",
     "text": [
      "{1: 'Ishvi', 2: [1, 2, 3], 3: {'3', '1', '2,'}}\n"
     ]
    }
   ],
   "metadata": {}
  },
  {
   "cell_type": "code",
   "execution_count": 56,
   "source": [
    "# Diffrent types to get value of a key\r\n",
    "my_dict = {\r\n",
    "    'name' : 'Ishvi',\r\n",
    "    'surname': 'Garhwal',\r\n",
    "    'DOB': '23/01/2002',\r\n",
    "    'branch': 'CSIT'\r\n",
    "}\r\n",
    "x = my_dict['branch']       # By variable\r\n",
    "print(x)\r\n",
    "\r\n",
    "y = my_dict.get('branch')   # By get() function\r\n",
    "print(y)"
   ],
   "outputs": [
    {
     "output_type": "stream",
     "name": "stdout",
     "text": [
      "CSIT\n",
      "CSIT\n"
     ]
    }
   ],
   "metadata": {}
  },
  {
   "cell_type": "code",
   "execution_count": 57,
   "source": [
    "# Adding items in dictionary\r\n",
    "my_dict = {\r\n",
    "    'name' : 'Ishvi',\r\n",
    "    'surname': 'Garhwal',\r\n",
    "    'DOB': '23/01/2002',\r\n",
    "    'branch': 'CSIT'\r\n",
    "}\r\n",
    "print(my_dict)\r\n",
    "print('After adding items')\r\n",
    "my_dict['age']= 19\r\n",
    "my_dict.update({'city':'Indore'})       # By update function\r\n",
    "print(my_dict)"
   ],
   "outputs": [
    {
     "output_type": "stream",
     "name": "stdout",
     "text": [
      "{'name': 'Ishvi', 'surname': 'Garhwal', 'DOB': '23/01/2002', 'branch': 'CSIT'}\n",
      "After adding items\n",
      "{'name': 'Ishvi', 'surname': 'Garhwal', 'DOB': '23/01/2002', 'branch': 'CSIT', 'age': 19, 'city': 'Indore'}\n"
     ]
    }
   ],
   "metadata": {}
  },
  {
   "cell_type": "code",
   "execution_count": 58,
   "source": [
    "# Change values of a dictionary\r\n",
    "my_dict = {\r\n",
    "    'name' : 'Ishvi',\r\n",
    "    'surname': 'Garhwal',\r\n",
    "    'DOB': '23/01/2002',\r\n",
    "    'age': 20,\r\n",
    "    'city': 'Bhopal'\r\n",
    "}\r\n",
    "print(my_dict)\r\n",
    "print('After changing values')\r\n",
    "my_dict['age'] = 19\r\n",
    "my_dict.update({'city': 'Indore'})\r\n",
    "print(my_dict)"
   ],
   "outputs": [
    {
     "output_type": "stream",
     "name": "stdout",
     "text": [
      "{'name': 'Ishvi', 'surname': 'Garhwal', 'DOB': '23/01/2002', 'age': 20, 'city': 'Bhopal'}\n",
      "After changing values\n",
      "{'name': 'Ishvi', 'surname': 'Garhwal', 'DOB': '23/01/2002', 'age': 19, 'city': 'Indore'}\n"
     ]
    }
   ],
   "metadata": {}
  },
  {
   "cell_type": "code",
   "execution_count": 59,
   "source": [
    "# Checking if any key is present in the dictionary by if condition\r\n",
    "my_dict = {\r\n",
    "    'name' : 'Ishvi',\r\n",
    "    'surname': 'Garhwal',\r\n",
    "    'DOB': '23/01/2002',\r\n",
    "    'branch': 'CSIT'\r\n",
    "}\r\n",
    "x = input('Enter')\r\n",
    "if x in my_dict:\r\n",
    "    print(x,'is present as a key in this dictionary')\r\n",
    "else:\r\n",
    "    print(x, 'is not present as a key in this dictionary')"
   ],
   "outputs": [
    {
     "output_type": "stream",
     "name": "stdout",
     "text": [
      "DOB is present as a key in this dictionary\n"
     ]
    }
   ],
   "metadata": {}
  },
  {
   "cell_type": "code",
   "execution_count": 60,
   "source": [
    "# Taking input in dictionary\r\n",
    "my_dict = { }\r\n",
    "n = int(input('Enter how many items to add: '))\r\n",
    "for _ in range(n):\r\n",
    "    key = input('Enter key ')\r\n",
    "    value = input('Enter value ')\r\n",
    "    my_dict[key] = value\r\n",
    "\r\n",
    "print(my_dict)"
   ],
   "outputs": [
    {
     "output_type": "stream",
     "name": "stdout",
     "text": [
      "{'name': 'ishvi', 'city': 'Indore', 'age': '19'}\n"
     ]
    }
   ],
   "metadata": {}
  },
  {
   "cell_type": "code",
   "execution_count": 61,
   "source": [
    "# Remove items from dictionary\r\n",
    "my_dict = {\r\n",
    "    'name': 'Ishvi',\r\n",
    "    'surname': 'Garhwal', \r\n",
    "    'DOB': '23/01/2002', \r\n",
    "    'branch': 'CSIT', \r\n",
    "    'age': 19, \r\n",
    "    'city': 'Indore'\r\n",
    "}\r\n",
    "print(my_dict)\r\n",
    "my_dict.pop('DOB')      # pop() remove the item with the specified key name\r\n",
    "print(my_dict)\r\n",
    "del my_dict['age']      # del keyword removes the item with the specified key name\r\n",
    "print(my_dict)\r\n",
    "my_dict.popitem()       # popitem() removes the last inserted item\r\n",
    "print(my_dict)\r\n",
    "my_dict.clear()         # clear() delete all items form dictionary\r\n",
    "print(my_dict)\r\n"
   ],
   "outputs": [
    {
     "output_type": "stream",
     "name": "stdout",
     "text": [
      "{'name': 'Ishvi', 'surname': 'Garhwal', 'DOB': '23/01/2002', 'branch': 'CSIT', 'age': 19, 'city': 'Indore'}\n",
      "{'name': 'Ishvi', 'surname': 'Garhwal', 'branch': 'CSIT', 'age': 19, 'city': 'Indore'}\n",
      "{'name': 'Ishvi', 'surname': 'Garhwal', 'branch': 'CSIT', 'city': 'Indore'}\n",
      "{'name': 'Ishvi', 'surname': 'Garhwal', 'branch': 'CSIT'}\n",
      "{}\n"
     ]
    }
   ],
   "metadata": {}
  },
  {
   "cell_type": "code",
   "execution_count": 62,
   "source": [
    "# keys(), values(), items() methods\r\n",
    "my_dict = {\r\n",
    "    'name': 'Ishvi',\r\n",
    "    'surname': 'Garhwal', \r\n",
    "    'DOB': '23/01/2002', \r\n",
    "    'branch': 'CSIT', \r\n",
    "    'age': 19, \r\n",
    "    'city': 'Indore'\r\n",
    "}\r\n",
    "print('All keys in dictionary ')\r\n",
    "print(my_dict.keys())       # Returns a list containing the dictionary's keys\r\n",
    "print('\\nAll values in dictionary ')\r\n",
    "print(my_dict.values())     # Returns a list of all the values in the dictionary\r\n",
    "print('\\nAll items in dictionary ')\r\n",
    "print(my_dict.items())      # Returns a list containing a tuple for each key value pair\r\n"
   ],
   "outputs": [
    {
     "output_type": "stream",
     "name": "stdout",
     "text": [
      "All keys in dictionary \n",
      "dict_keys(['name', 'surname', 'DOB', 'branch', 'age', 'city'])\n",
      "\n",
      "All values in dictionary \n",
      "dict_values(['Ishvi', 'Garhwal', '23/01/2002', 'CSIT', 19, 'Indore'])\n",
      "\n",
      "All items in dictionary \n",
      "dict_items([('name', 'Ishvi'), ('surname', 'Garhwal'), ('DOB', '23/01/2002'), ('branch', 'CSIT'), ('age', 19), ('city', 'Indore')])\n"
     ]
    }
   ],
   "metadata": {}
  },
  {
   "cell_type": "code",
   "execution_count": 63,
   "source": [
    "# Accessing items by for loop\r\n",
    "my_dict = {\r\n",
    "    'name': 'Ishvi',\r\n",
    "    'surname': 'Garhwal', \r\n",
    "    'DOB': '23/01/2002', \r\n",
    "}\r\n",
    "print('All keys in dictionary ')\r\n",
    "for i in my_dict:\r\n",
    "    print(i)\r\n",
    "\r\n",
    "print('\\nAll values in dictionary')\r\n",
    "for j in my_dict:\r\n",
    "    print(my_dict[j])\r\n",
    "\r\n",
    "print('\\nAll items in dictionary')\r\n",
    "for x in my_dict:\r\n",
    "    print(x, my_dict[x])\r\n",
    "\r\n",
    "print('\\nAll keys in dictionary ')      # By keys() method\r\n",
    "for i in my_dict.keys():\r\n",
    "    print(i)\r\n",
    "\r\n",
    "print('\\nAll values in dictionary')     # By values() method\r\n",
    "for j in my_dict.values():\r\n",
    "    print(j)\r\n",
    "\r\n",
    "print('\\nAll items in dictionary')      # By items() method\r\n",
    "for x,y in my_dict.items():\r\n",
    "    print(x, y)\r\n",
    "    "
   ],
   "outputs": [
    {
     "output_type": "stream",
     "name": "stdout",
     "text": [
      "All keys in dictionary \n",
      "name\n",
      "surname\n",
      "DOB\n",
      "\n",
      "All values in dictionary\n",
      "Ishvi\n",
      "Garhwal\n",
      "23/01/2002\n",
      "\n",
      "All items in dictionary\n",
      "name Ishvi\n",
      "surname Garhwal\n",
      "DOB 23/01/2002\n",
      "\n",
      "All keys in dictionary \n",
      "name\n",
      "surname\n",
      "DOB\n",
      "\n",
      "All values in dictionary\n",
      "Ishvi\n",
      "Garhwal\n",
      "23/01/2002\n",
      "\n",
      "All items in dictionary\n",
      "name Ishvi\n",
      "surname Garhwal\n",
      "DOB 23/01/2002\n"
     ]
    }
   ],
   "metadata": {}
  },
  {
   "cell_type": "code",
   "execution_count": 64,
   "source": [
    "# copy(), dict() method\r\n",
    "my_dict = {\r\n",
    "    'name': 'Ishvi',\r\n",
    "    'surname': 'Garhwal', \r\n",
    "    'DOB': '23/01/2002', \r\n",
    "    'branch': 'CSIT', \r\n",
    "    'age': 19, \r\n",
    "    'city': 'Indore'\r\n",
    "}\r\n",
    "x = my_dict.copy()      # Make a copy of a dictionary with the copy() method\r\n",
    "print(x)\r\n",
    "\r\n",
    "y = dict(my_dict)       # Another way to make a copy is to use the built-in function dict()\r\n",
    "print(y)"
   ],
   "outputs": [
    {
     "output_type": "stream",
     "name": "stdout",
     "text": [
      "{'name': 'Ishvi', 'surname': 'Garhwal', 'DOB': '23/01/2002', 'branch': 'CSIT', 'age': 19, 'city': 'Indore'}\n",
      "{'name': 'Ishvi', 'surname': 'Garhwal', 'DOB': '23/01/2002', 'branch': 'CSIT', 'age': 19, 'city': 'Indore'}\n"
     ]
    }
   ],
   "metadata": {}
  },
  {
   "cell_type": "code",
   "execution_count": 65,
   "source": [
    "# Nested dictionary\r\n",
    "my_dict = {\r\n",
    "  \"student1\" : {\r\n",
    "    \"name\" : \"Ram\",\r\n",
    "    \"age\" : 19\r\n",
    "  },\r\n",
    "  \"student2\" : {\r\n",
    "    \"name\" : \"Shaam\",\r\n",
    "    \"age\" : 20\r\n",
    "  },\r\n",
    "  \"student3\" : {\r\n",
    "    \"name\" : \"Geeta\",\r\n",
    "    \"age\" : 18\r\n",
    "  }\r\n",
    "} \r\n",
    "print(my_dict)\r\n",
    "print('Student2 details',my_dict['student2'])"
   ],
   "outputs": [
    {
     "output_type": "stream",
     "name": "stdout",
     "text": [
      "{'student1': {'name': 'Ram', 'age': 19}, 'student2': {'name': 'Shaam', 'age': 20}, 'student3': {'name': 'Geeta', 'age': 18}}\n",
      "Student2 details {'name': 'Shaam', 'age': 20}\n"
     ]
    }
   ],
   "metadata": {}
  },
  {
   "cell_type": "code",
   "execution_count": 66,
   "source": [
    "# fromkeys() methods\r\n",
    "\r\n",
    "n = ('key1', 'key2', 'key3')\r\n",
    "i = 'value'\r\n",
    "my_dict = dict.fromkeys(n,i)     #Returns a dictionary with the specified keys and value\r\n",
    "print(my_dict)"
   ],
   "outputs": [
    {
     "output_type": "stream",
     "name": "stdout",
     "text": [
      "{'key1': 'value', 'key2': 'value', 'key3': 'value'}\n"
     ]
    }
   ],
   "metadata": {}
  }
 ],
 "metadata": {
  "orig_nbformat": 4,
  "language_info": {
   "name": "python",
   "version": "3.9.1",
   "mimetype": "text/x-python",
   "codemirror_mode": {
    "name": "ipython",
    "version": 3
   },
   "pygments_lexer": "ipython3",
   "nbconvert_exporter": "python",
   "file_extension": ".py"
  },
  "kernelspec": {
   "name": "python3",
   "display_name": "Python 3.9.1 64-bit"
  },
  "interpreter": {
   "hash": "06cb67651ce969e244f20f184e33f4ddb1106793adfe07cf7ddc131c95c4012f"
  }
 },
 "nbformat": 4,
 "nbformat_minor": 2
}